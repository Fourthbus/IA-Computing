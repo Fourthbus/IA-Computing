{
 "cells": [
  {
   "cell_type": "markdown",
   "metadata": {},
   "source": [
    "# Activity 12"
   ]
  },
  {
   "cell_type": "markdown",
   "metadata": {},
   "source": [
    "## Exercise 12.1"
   ]
  },
  {
   "cell_type": "code",
   "execution_count": 14,
   "metadata": {
    "collapsed": false
   },
   "outputs": [],
   "source": [
    "class MyVector:\n",
    "    def __init__(self, x):\n",
    "        self.x = x\n",
    "        \n",
    "    # Return length of vector\n",
    "    def size(self):\n",
    "        return len(self.x)\n",
    "    \n",
    "    # This allows access by index, e.g. y[2]\n",
    "    def __getitem__(self, index):\n",
    "        return self.x[index]\n",
    "\n",
    "    # Return norm of vector\n",
    "    def norm(self):\n",
    "        s=0\n",
    "        for i in self.x:\n",
    "            s += i**2\n",
    "        return s**(1/2)\n",
    "    \n",
    "    # Return dot product of vector with another vector\n",
    "    def dot(self, other):\n",
    "        s=0\n",
    "        if len(self.x) == len(other.x):\n",
    "            for i in range(len(self.x)):\n",
    "                s += self[i]*other.x[i]\n",
    "            return s\n",
    "        else:\n",
    "            raise VelueError('Length of two vectors not the same.')"
   ]
  },
  {
   "cell_type": "code",
   "execution_count": 15,
   "metadata": {
    "collapsed": false
   },
   "outputs": [
    {
     "name": "stdout",
     "output_type": "stream",
     "text": [
      "3\n",
      "[[ 0.  0.]\n",
      " [ 0.  0.]\n",
      " [ 0.  0.]]\n",
      "3 1\n",
      "None\n"
     ]
    }
   ],
   "source": [
    "Vec_1=MyVector([3,3,2])\n",
    "Vec_2=MyVector([1,2,3])\n",
    "print(Vec_1.size())\n",
    "print(Vec_1.norm())\n",
    "print(Vec_1.dot(Vec_2))"
   ]
  },
  {
   "cell_type": "code",
   "execution_count": null,
   "metadata": {
    "collapsed": false
   },
   "outputs": [],
   "source": [
    "import datetime\n",
    "class StudentRecord:\n",
    "    def __init__(self, surname, forename, birth_year, tripos_year, college, CRSid=None):\n",
    "        self.surname=surname\n",
    "        self.forename=forename\n",
    "        self.birth_year=birth_year\n",
    "        self.tripos_year=tripos_year\n",
    "        self.college=college\n",
    "        self.CRSid=CRSid\n",
    "    def age(self):\n",
    "        return datetime.date.today().year-self.birth_year\n",
    "    def __repr__(self):\n",
    "        return str('Surname: {}, Forename: {}, College: {}'.format(self.surname, self.forename, self.college))\n",
    "    def __lt__(self, other):\n",
    "        if self.surname < other.surname:\n",
    "            return True\n",
    "        elif self.surname == other.surname:\n",
    "            if self.forename < other.forename:\n",
    "                return True\n",
    "            else:\n",
    "                return False\n",
    "        else:\n",
    "            return False\n",
    "    def __gt__(self, other):\n",
    "        if self.surname > other.surname:\n",
    "            return True\n",
    "        elif self.surname == other.surname:\n",
    "            if self.forename > other.forename:\n",
    "                return True\n",
    "            else:\n",
    "                return False\n",
    "        else:\n",
    "            return False\n",
    "    \n",
    "list = [StudentRecord(\"Bloggs\", \"Andrea\", 1997, 1, \"Churchill\"),\n",
    "        StudentRecord(\"Ong\", \"Michael\", 1997, 1, \"Downing\", \"MHO23\"),\n",
    "        StudentRecord(\"Ong\", \"Donald\", 1997, 1, \"Gonville & Caius\", \"MHO24\"), \n",
    "        StudentRecord(\"Holland\", \"Joe\", 1997, 1, \"Gonville & Caius\", \"JH2044\")]\n",
    "print(list[0].age())\n",
    "print(list[0])\n",
    "\n",
    "print(sorted(list))"
   ]
  },
  {
   "cell_type": "code",
   "execution_count": null,
   "metadata": {
    "collapsed": true
   },
   "outputs": [],
   "source": []
  },
  {
   "cell_type": "code",
   "execution_count": null,
   "metadata": {
    "collapsed": true
   },
   "outputs": [],
   "source": []
  }
 ],
 "metadata": {
  "kernelspec": {
   "display_name": "Python 3",
   "language": "python",
   "name": "python3"
  },
  "language_info": {
   "codemirror_mode": {
    "name": "ipython",
    "version": 3
   },
   "file_extension": ".py",
   "mimetype": "text/x-python",
   "name": "python",
   "nbconvert_exporter": "python",
   "pygments_lexer": "ipython3",
   "version": "3.5.1"
  }
 },
 "nbformat": 4,
 "nbformat_minor": 1
}
