{
 "cells": [
  {
   "cell_type": "markdown",
   "metadata": {},
   "source": [
    "# Activit 7"
   ]
  },
  {
   "cell_type": "markdown",
   "metadata": {},
   "source": [
    "## Exercise 07.1"
   ]
  },
  {
   "cell_type": "code",
   "execution_count": 1,
   "metadata": {
    "collapsed": false
   },
   "outputs": [
    {
     "name": "stdout",
     "output_type": "stream",
     "text": [
      "CPU times: user 0 ns, sys: 0 ns, total: 0 ns\n",
      "Wall time: 58.7 µs\n",
      "[ 0.46733546  1.85213476  0.46397342 ...,  1.19612951  0.41730415\n",
      "  0.60468279]\n"
     ]
    }
   ],
   "source": [
    "import numpy as np\n",
    "x = np.random.rand(10000)\n",
    "y = np.random.rand(10000)\n",
    "%time z = np.add(x, y)\n",
    "print(z)"
   ]
  },
  {
   "cell_type": "code",
   "execution_count": 2,
   "metadata": {
    "collapsed": false
   },
   "outputs": [
    {
     "name": "stdout",
     "output_type": "stream",
     "text": [
      "CPU times: user 4 ms, sys: 0 ns, total: 4 ms\n",
      "Wall time: 4.15 ms\n",
      "[ 0.46733546  1.85213476  0.46397342 ...,  1.19612951  0.41730415\n",
      "  0.60468279]\n"
     ]
    }
   ],
   "source": [
    "def compute_add(x, y):\n",
    "    z = []\n",
    "    for i in range(len(x)):\n",
    "        z.append (x[i] + y[i])\n",
    "    return np.array(z)\n",
    "%time z = compute_add(x, y)\n",
    "print(z)"
   ]
  },
  {
   "cell_type": "markdown",
   "metadata": {},
   "source": [
    "## Exercise 07.2"
   ]
  },
  {
   "cell_type": "code",
   "execution_count": 3,
   "metadata": {
    "collapsed": false
   },
   "outputs": [
    {
     "name": "stdout",
     "output_type": "stream",
     "text": [
      "[ 0.13        0.4         0.58333333  0.7         0.96666667]\n"
     ]
    }
   ],
   "source": [
    "z = np.array([58.0, 35.0, 24.0, 42, 7.8])\n",
    "s = z / 60\n",
    "s.sort()\n",
    "print(s)"
   ]
  },
  {
   "cell_type": "code",
   "execution_count": 4,
   "metadata": {
    "collapsed": false
   },
   "outputs": [
    {
     "name": "stdout",
     "output_type": "stream",
     "text": [
      "The min is 0.13, max is 0.9666666666666667 and mean is 0.5559999999999999.\n"
     ]
    }
   ],
   "source": [
    "print('The min is {}, max is {} and mean is {}.'.format(s.min(), s.max(), s.mean()))"
   ]
  },
  {
   "cell_type": "code",
   "execution_count": 5,
   "metadata": {
    "collapsed": false
   },
   "outputs": [
    {
     "name": "stdout",
     "output_type": "stream",
     "text": [
      "The min is 0.4, max is 0.7 and mean is 0.5611111111111111.\n"
     ]
    }
   ],
   "source": [
    "a = s[1:][:-1]\n",
    "print('The min is {}, max is {} and mean is {}.'.format(a.min(), a.max(), a.mean()))"
   ]
  },
  {
   "cell_type": "markdown",
   "metadata": {},
   "source": [
    "## Exercise 07.3"
   ]
  },
  {
   "cell_type": "code",
   "execution_count": 6,
   "metadata": {
    "collapsed": false
   },
   "outputs": [
    {
     "name": "stdout",
     "output_type": "stream",
     "text": [
      "[[   4.      7.     -2.43   67.1 ]\n",
      " [  -4.     64.     54.7    -3.33]\n",
      " [   2.43   23.2     3.64    4.11]\n",
      " [   1.2     2.5  -113.2   323.22]]\n"
     ]
    }
   ],
   "source": [
    "A = np.array([[4.0, 7.0, -2.43, 67.1],\n",
    "             [-4.0, 64.0, 54.7, -3.33],\n",
    "             [2.43, 23.2, 3.64, 4.11],\n",
    "             [1.2, 2.5, -113.2, 323.22]])\n",
    "print (A)"
   ]
  },
  {
   "cell_type": "code",
   "execution_count": 7,
   "metadata": {
    "collapsed": false
   },
   "outputs": [
    {
     "name": "stdout",
     "output_type": "stream",
     "text": [
      "[  4.     7.    -2.43  67.1 ]\n"
     ]
    }
   ],
   "source": [
    "print (A[0])"
   ]
  },
  {
   "cell_type": "code",
   "execution_count": 8,
   "metadata": {
    "collapsed": false
   },
   "outputs": [
    {
     "name": "stdout",
     "output_type": "stream",
     "text": [
      "[[  4.     7.  ]\n",
      " [ -4.    64.  ]\n",
      " [  2.43  23.2 ]\n",
      " [  1.2    2.5 ]]\n"
     ]
    }
   ],
   "source": [
    "print (A[:,:2])"
   ]
  },
  {
   "cell_type": "code",
   "execution_count": 9,
   "metadata": {
    "collapsed": false
   },
   "outputs": [
    {
     "name": "stdout",
     "output_type": "stream",
     "text": [
      "[[   3.64    4.11]\n",
      " [-113.2   323.22]]\n"
     ]
    }
   ],
   "source": [
    "print (A[2:,2:])"
   ]
  },
  {
   "cell_type": "code",
   "execution_count": 10,
   "metadata": {
    "collapsed": false
   },
   "outputs": [
    {
     "name": "stdout",
     "output_type": "stream",
     "text": [
      "[[   4.     -4.      2.43    1.2 ]\n",
      " [   7.     64.     23.2     2.5 ]\n",
      " [  -2.43   54.7     3.64 -113.2 ]\n",
      " [  67.1    -3.33    4.11  323.22]]\n"
     ]
    }
   ],
   "source": [
    "print (A.transpose())"
   ]
  },
  {
   "cell_type": "code",
   "execution_count": 11,
   "metadata": {
    "collapsed": false
   },
   "outputs": [
    {
     "name": "stdout",
     "output_type": "stream",
     "text": [
      "213.72\n",
      "Expected to be 213.72000000000003.\n"
     ]
    }
   ],
   "source": [
    "B = A[3]\n",
    "print (np.sum(B))#\n",
    "print ('Expected to be {}.'.format(1.2 + 2.5 - 113.2 + 323.22))"
   ]
  }
 ],
 "metadata": {
  "kernelspec": {
   "display_name": "Python 3",
   "language": "python",
   "name": "python3"
  },
  "language_info": {
   "codemirror_mode": {
    "name": "ipython",
    "version": 3
   },
   "file_extension": ".py",
   "mimetype": "text/x-python",
   "name": "python",
   "nbconvert_exporter": "python",
   "pygments_lexer": "ipython3",
   "version": "3.5.1"
  }
 },
 "nbformat": 4,
 "nbformat_minor": 1
}
