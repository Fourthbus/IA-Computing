{
 "cells": [
  {
   "cell_type": "markdown",
   "metadata": {},
   "source": [
    "# Activity 6"
   ]
  },
  {
   "cell_type": "markdown",
   "metadata": {},
   "source": [
    "## Activity 06.1"
   ]
  },
  {
   "cell_type": "code",
   "execution_count": 1,
   "metadata": {
    "collapsed": false
   },
   "outputs": [
    {
     "name": "stdout",
     "output_type": "stream",
     "text": [
      "1.0\n"
     ]
    }
   ],
   "source": [
    "def triangle_area (x0, y0, x1, y1, x2, y2):\n",
    "    'Compute A'\n",
    "    A = abs (1/2 * ((x0 * (y1 - y2)) + (x1 * (y2 - y0)) + (x2 * (y0 - y1))))\n",
    "    return A\n",
    "P0 = (0,0)\n",
    "P1 = (-2,0)\n",
    "P2 = (-1,-1)\n",
    "# Test if sum of two sides larger than the third\n",
    "if (((P0[0] - P1[0])**2 + (P0[1] - P1[1])**2)**1/2 + ((P0[0] - P2[0])**2 + (P0[1] - P2[1])**2)**1/2) > ((P1[0] - P2[0])**2 + (P1[1] - P2[1])**2)**1/2 :\n",
    "    print (triangle_area (P0 [0], P0 [1], P1 [0], P1 [1], P2 [0], P2 [1]))\n",
    "else:\n",
    "    print ('Imput error!')\n",
    "# Expected to be 1.0"
   ]
  },
  {
   "cell_type": "markdown",
   "metadata": {},
   "source": [
    "## Activity 06.2"
   ]
  },
  {
   "cell_type": "code",
   "execution_count": 2,
   "metadata": {
    "collapsed": false
   },
   "outputs": [
    {
     "name": "stdout",
     "output_type": "stream",
     "text": [
      "1.0\n"
     ]
    }
   ],
   "source": [
    "# input 3 vertices\n",
    "vertices = [(0,0), (-2,0), (-1,-1)]\n",
    "# take each x_i and y_i coordinates out\n",
    "i, j = 0, 0\n",
    "x = []\n",
    "y = []\n",
    "for i, j in vertices:\n",
    "    x = x + [i]\n",
    "    y = y + [j]\n",
    "# move the first vertex to the last\n",
    "vertices.append(vertices[0])\n",
    "vertices.pop(0)\n",
    "# take each x_i+1 and y_i+1 coordinates out\n",
    "i, j = 0, 0\n",
    "x1 = []\n",
    "y1 = []\n",
    "for i, j in vertices:\n",
    "    x1 = x1 + [i]\n",
    "    y1 = y1 + [j]\n",
    "# loop for calculating sum\n",
    "s = 0\n",
    "for i, p in enumerate(vertices):\n",
    "    s = s + (x[i] * y1[i] - x1[i] * y[i])\n",
    "# calculate area\n",
    "A = 1/2 * abs (s)\n",
    "print (A)\n",
    "# Expect to be 1.0"
   ]
  },
  {
   "cell_type": "code",
   "execution_count": 3,
   "metadata": {
    "collapsed": false
   },
   "outputs": [
    {
     "name": "stdout",
     "output_type": "stream",
     "text": [
      "1.0\n"
     ]
    }
   ],
   "source": [
    "# input 4 vertices\n",
    "vertices = [(0,0), (1,0), (1,1), (0,1)]\n",
    "# take each x_i and y_i coordinates out\n",
    "i, j = 0, 0\n",
    "x = []\n",
    "y = []\n",
    "for i, j in vertices:\n",
    "    x = x + [i]\n",
    "    y = y + [j]\n",
    "# move the first vertex to the last\n",
    "vertices.append(vertices[0])\n",
    "vertices.pop(0)\n",
    "# take each x_i+1 and y_i+1 coordinates out\n",
    "i, j = 0, 0\n",
    "x1 = []\n",
    "y1 = []\n",
    "for i, j in vertices:\n",
    "    x1 = x1 + [i]\n",
    "    y1 = y1 + [j]\n",
    "# loop for calculating sum\n",
    "s = 0\n",
    "for i, p in enumerate(vertices):\n",
    "    s = s + (x[i] * y1[i] - x1[i] * y[i])\n",
    "# calculate area\n",
    "A = 1/2 * abs (s)\n",
    "print (A)\n",
    "# Expect to be 1.0"
   ]
  },
  {
   "cell_type": "code",
   "execution_count": 4,
   "metadata": {
    "collapsed": false
   },
   "outputs": [
    {
     "name": "stdout",
     "output_type": "stream",
     "text": [
      "3.0\n"
     ]
    }
   ],
   "source": [
    "# input 6 vertices\n",
    "vertices = [(0.5,-1), (1,0), (0.5,1), (-0.5,1), (-1,0), (-0.5,-1)]\n",
    "# take each x_i and y_i coordinates out\n",
    "i, j = 0, 0\n",
    "x = []\n",
    "y = []\n",
    "for i, j in vertices:\n",
    "    x = x + [i]\n",
    "    y = y + [j]\n",
    "# move the first vertex to the last\n",
    "vertices.append(vertices[0])\n",
    "vertices.pop(0)\n",
    "# take each x_i+1 and y_i+1 coordinates out\n",
    "i, j = 0, 0\n",
    "x1 = []\n",
    "y1 = []\n",
    "for i, j in vertices:\n",
    "    x1 = x1 + [i]\n",
    "    y1 = y1 + [j]\n",
    "# loop for calculating sum\n",
    "s = 0\n",
    "for i, p in enumerate(vertices):\n",
    "    s = s + (x[i] * y1[i] - x1[i] * y[i])\n",
    "# calculate area\n",
    "A = 1/2 * abs (s)\n",
    "print (A)\n",
    "# Expect to be 3.0"
   ]
  },
  {
   "cell_type": "markdown",
   "metadata": {},
   "source": [
    "## Activity 06.3"
   ]
  },
  {
   "cell_type": "code",
   "execution_count": 5,
   "metadata": {
    "collapsed": false
   },
   "outputs": [
    {
     "name": "stdout",
     "output_type": "stream",
     "text": [
      "Lengths not matched, as the first vector has length of 3 while the secend has length of 4.\n"
     ]
    }
   ],
   "source": [
    "def vecadd(v1,v2):\n",
    "    'Compute adding vectors'\n",
    "# compare length\n",
    "    if len(v1) == len(v2):\n",
    "        v3 = [0]*len(v1)\n",
    "        for i in range (len(v1)-1):\n",
    "            v3[i] = v1[i] + v2[i]\n",
    "    else:\n",
    "        v3 = ('Lengths not matched, as the first vector has length of {} while the secend has length of {}.'.format(len(v1),len(v2)))\n",
    "    return v3\n",
    "print (vecadd([2,3,2],[3,3,4,6]))"
   ]
  },
  {
   "cell_type": "code",
   "execution_count": 6,
   "metadata": {
    "collapsed": false
   },
   "outputs": [
    {
     "name": "stdout",
     "output_type": "stream",
     "text": [
      "[5, 6, 6, 0]\n"
     ]
    }
   ],
   "source": [
    "def vecadd(v1,v2):\n",
    "    'Compute adding vectors'\n",
    "# compare length\n",
    "    if len(v1) == len(v2):\n",
    "        v3 = [0]*len(v1)\n",
    "        for i in range (len(v1)-1):\n",
    "            v3[i] = v1[i] + v2[i]\n",
    "    else:\n",
    "        v3 = ('Lengths not matched, as the first vector has length of {} while the secend has length of {}.'.format(len(v1),len(v2)))\n",
    "    return v3\n",
    "print (vecadd([2,3,2,4],[3,3,4,6]))"
   ]
  },
  {
   "cell_type": "markdown",
   "metadata": {},
   "source": [
    "## Activity 06.4"
   ]
  },
  {
   "cell_type": "code",
   "execution_count": 7,
   "metadata": {
    "collapsed": false
   },
   "outputs": [
    {
     "name": "stdout",
     "output_type": "stream",
     "text": [
      "{'HO': 'Homerton', 'CHU': 'Churchill', 'G': 'Girton', 'CL': 'Clare', 'CAI': 'Gonville & Caius', 'CC': 'Corpus Christi'}\n",
      "['CAI', 'CC', 'CHU', 'CL', 'G', 'HO']\n"
     ]
    }
   ],
   "source": [
    "colleges = {'Gonville & Caius': 'CAI', 'Homerton': 'HO' , 'Churchill': 'CHU', 'Clare': 'CL', 'Corpus Christi': 'CC', 'Girton': 'G'}\n",
    "# define enpty inverse dict\n",
    "colleges_inverse = {}\n",
    "# Build inverse dictionary to map 'room number' -> name\n",
    "for name, abbr in colleges.items():\n",
    "# Insert entry into dictionary\n",
    "    colleges_inverse[abbr] = name\n",
    "print(colleges_inverse)\n",
    "# define empty abbr list\n",
    "abbrlist = []\n",
    "# build abbr list\n",
    "for name, abbr in colleges.items():\n",
    "    abbrlist = abbrlist + [abbr]\n",
    "# sort abbr list alphabetically\n",
    "    abbrlist.sort()\n",
    "print(abbrlist)"
   ]
  },
  {
   "cell_type": "code",
   "execution_count": 8,
   "metadata": {
    "collapsed": false
   },
   "outputs": [
    {
     "name": "stdout",
     "output_type": "stream",
     "text": [
      "Most student college abbreviation is HO, student number 1181.\n",
      "Oldest college abbreviation is CL, founded in 1326, with 655 students.\n"
     ]
    }
   ],
   "source": [
    "# Craete a dict with college details\n",
    "colleges = {'Gonville & Caius': ('CAI', 1348, 719), 'Homerton': ('HO', 1976, 1181) , 'Churchill': ('CHU', 1960, 704), 'Clare': ('CL', 1326, 655), 'Corpus Christi': ('CC', 1352, 467), 'Girton': ('G', 1869, 677)}\n",
    "# Creast a dict with map college abbr with year and students\n",
    "colleges_abbr = {}\n",
    "for name, data in colleges.items():\n",
    "    colleges_abbr[data[0]] = (data[1], data[2])\n",
    "# create a list with the above elements in tuples\n",
    "s = []\n",
    "for abbr, data in colleges_abbr.items():\n",
    "    s = s + [(abbr, data[0], data[1])]\n",
    "# sort the list of touples\n",
    "from operator import itemgetter, attrgetter, methodcaller\n",
    "# sort by desending students\n",
    "ss = sorted(s, key=itemgetter(2), reverse=True)\n",
    "print ('Most student college abbreviation is {}, student number {}.'.format(ss[0][0], ss[0][2]))\n",
    "# sort by ascendying years\n",
    "sy = sorted(s, key=itemgetter(1), reverse=False)\n",
    "print ('Oldest college abbreviation is {}, founded in {}, with {} students.'.format(sy[0][0], sy[0][1], sy[0][2]))"
   ]
  },
  {
   "cell_type": "code",
   "execution_count": null,
   "metadata": {
    "collapsed": true
   },
   "outputs": [],
   "source": []
  }
 ],
 "metadata": {
  "kernelspec": {
   "display_name": "Python 3",
   "language": "python",
   "name": "python3"
  },
  "language_info": {
   "codemirror_mode": {
    "name": "ipython",
    "version": 3
   },
   "file_extension": ".py",
   "mimetype": "text/x-python",
   "name": "python",
   "nbconvert_exporter": "python",
   "pygments_lexer": "ipython3",
   "version": "3.5.1"
  }
 },
 "nbformat": 4,
 "nbformat_minor": 1
}
