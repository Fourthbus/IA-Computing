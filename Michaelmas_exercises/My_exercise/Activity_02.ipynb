{
 "cells": [
  {
   "cell_type": "markdown",
   "metadata": {},
   "source": [
    "# Activity 2"
   ]
  },
  {
   "cell_type": "markdown",
   "metadata": {},
   "source": [
    "## Exercise 02.1 (if-else)"
   ]
  },
  {
   "cell_type": "code",
   "execution_count": 1,
   "metadata": {
    "collapsed": false
   },
   "outputs": [
    {
     "name": "stdout",
     "output_type": "stream",
     "text": [
      "What is your mark? 90\n",
      "Your grade is Excellent!\n"
     ]
    }
   ],
   "source": [
    "# Get input from user\n",
    "m = float(input('What is your mark? '))\n",
    "while m > 100 or m < 0: \n",
    "    print ('Are you actually studying, how can you get that mark')\n",
    "    m = float(input('What is actually your mark? '))\n",
    "if m >= 82:\n",
    "    print ('Your grade is Excellent!')\n",
    "elif m >= 76.5:\n",
    "    print ('Your grade is Good!')\n",
    "elif m >= 66:\n",
    "    print ('Your grade Need Improvement')\n",
    "else :\n",
    "    print ('Did you try?')"
   ]
  },
  {
   "cell_type": "markdown",
   "metadata": {},
   "source": [
    "## Exercies 02.2.1"
   ]
  },
  {
   "cell_type": "code",
   "execution_count": 2,
   "metadata": {
    "collapsed": false
   },
   "outputs": [
    {
     "name": "stdout",
     "output_type": "stream",
     "text": [
      "1 4.5\n",
      "2 5.25\n",
      "3 4.875\n",
      "4 4.6875\n",
      "5 4.59375\n",
      "6 4.546875\n",
      "7 4.5234375\n",
      "8 4.53515625\n",
      "9 4.529296875\n",
      "10 4.5322265625\n",
      "11 4.53369140625\n",
      "12 4.534423828125\n",
      "13 4.5340576171875\n",
      "14 4.53424072265625\n",
      "15 4.534149169921875\n",
      "The approximate answer is 4.534149169921875\n"
     ]
    }
   ],
   "source": [
    "# define initial range\n",
    "x_0 = 3\n",
    "x_1 = 6\n",
    "# start the loop\n",
    "for n in range (15):\n",
    "    x_mid = (x_0 + x_1) / 2\n",
    "    y_0 = (x_0**3) - (6 * x_0**2) + (4 * x_0) + 12\n",
    "    y_1 = x_1**3 - 6 * x_1**2 + 4 * x_1 + 12\n",
    "    y_mid = x_mid**3 - 6 * x_mid**2 + 4 * x_mid + 12\n",
    "# finding the range for the root\n",
    "    if y_0 * y_mid < 0:\n",
    "        x_1 = x_mid\n",
    "    else:\n",
    "        x_0 = x_mid\n",
    "# showeing test time and result\n",
    "    print (n + 1, x_mid)\n",
    "print ('The approximate answer is', x_mid)"
   ]
  },
  {
   "cell_type": "markdown",
   "metadata": {},
   "source": [
    "## Exercise 02.2.2"
   ]
  },
  {
   "cell_type": "code",
   "execution_count": 3,
   "metadata": {
    "collapsed": false
   },
   "outputs": [
    {
     "name": "stdout",
     "output_type": "stream",
     "text": [
      "1 4.5 1.5\n",
      "2 5.25 0.75\n",
      "3 4.875 0.375\n",
      "4 4.6875 0.1875\n",
      "5 4.59375 0.09375\n",
      "6 4.546875 0.046875\n",
      "7 4.5234375 0.0234375\n",
      "8 4.53515625 0.01171875\n",
      "9 4.529296875 0.005859375\n",
      "10 4.5322265625 0.0029296875\n",
      "11 4.53369140625 0.00146484375\n",
      "12 4.534423828125 0.000732421875\n",
      "13 4.5340576171875 0.0003662109375\n",
      "14 4.53424072265625 0.00018310546875\n",
      "15 4.534149169921875 9.1552734375e-05\n",
      "16 4.5341033935546875 4.57763671875e-05\n",
      "17 4.534080505371094 2.288818359375e-05\n",
      "18 4.534069061279297 1.1444091796875e-05\n",
      "19 4.534074783325195 5.7220458984375e-06\n",
      "20 4.534071922302246 2.86102294921875e-06\n",
      "21 4.5340704917907715 1.430511474609375e-06\n",
      "22 4.534069776535034 7.152557373046875e-07\n",
      "The approximate answer is 4.534069776535034\n"
     ]
    }
   ],
   "source": [
    "# define initial range\n",
    "x_0 = 3\n",
    "x_1 = 6\n",
    "n = 0\n",
    "# start the loop and run with range within 1e-6\n",
    "while abs(x_1 - x_0) > 1e-6 :\n",
    "    x_mid = (x_0 + x_1) / 2\n",
    "    y_0 = (x_0**3) - (6 * x_0**2) + (4 * x_0) + 12\n",
    "    y_1 = x_1**3 - 6 * x_1**2 + 4 * x_1 + 12\n",
    "    n = n + 1\n",
    "    y_mid = x_mid**3 - 6 * x_mid**2 + 4 * x_mid + 12\n",
    "# finding the range for the root\n",
    "    if y_0 * y_mid < 0:\n",
    "        x_1 = x_mid\n",
    "    else:\n",
    "        x_0 = x_mid\n",
    "# showeing test time and result\n",
    "    print ( n  , x_mid , abs(x_0 - x_1))\n",
    "print ('The approximate answer is', x_mid)"
   ]
  },
  {
   "cell_type": "markdown",
   "metadata": {
    "collapsed": true
   },
   "source": [
    "### Exercise 02.3"
   ]
  },
  {
   "cell_type": "code",
   "execution_count": 4,
   "metadata": {
    "collapsed": false
   },
   "outputs": [
    {
     "name": "stdout",
     "output_type": "stream",
     "text": [
      "1 4.71238898038469\n",
      "2 -12.728641652283956\n",
      "3 6.636666525534631\n",
      "4 -3.602329768407337\n",
      "5 -0.444365928237735\n",
      "6 -1.0818902108258501\n",
      "7 -0.9911385887311435\n",
      "8 -1.0007351881114854\n",
      "9 -0.9999517030422599\n",
      "10 -1.000002575987572\n",
      "11 -0.9999998861884025\n",
      "12 -1.0000000042344912\n",
      "13 -0.9999999998654855\n",
      "14 -1.0000000000036917\n",
      "15 -0.9999999999999121\n",
      "The absolute error is 8.79296635503124e-14\n"
     ]
    }
   ],
   "source": [
    "# Define variavles\n",
    "import math\n",
    "pi = math.pi\n",
    "n = 0\n",
    "f = 0\n",
    "x = 3 * pi / 2\n",
    "s = math.sin (x)\n",
    "# repeat for fifteen times\n",
    "for n in range (15) :\n",
    "    f = f + (-1)**n * (x**(2 * n + 1)) / (math.factorial (2 * n + 1))\n",
    "    print (n + 1, f)\n",
    "print ('The absolute error is', abs (s - f))"
   ]
  },
  {
   "cell_type": "code",
   "execution_count": 5,
   "metadata": {
    "collapsed": false
   },
   "outputs": [
    {
     "name": "stdout",
     "output_type": "stream",
     "text": [
      "1 4.71238898038469 5.71238898038469\n",
      "2 -12.728641652283956 11.728641652283956\n",
      "3 6.636666525534631 7.636666525534631\n",
      "4 -3.602329768407337 2.602329768407337\n",
      "5 -0.444365928237735 0.555634071762265\n",
      "6 -1.0818902108258501 0.08189021082585013\n",
      "7 -0.9911385887311435 0.008861411268856534\n",
      "8 -1.0007351881114854 0.0007351881114854297\n",
      "9 -0.9999517030422599 4.829695774011267e-05\n",
      "10 -1.000002575987572 2.5759875719177927e-06\n",
      "11 -0.9999998861884025 1.1381159747969605e-07\n",
      "12 -1.0000000042344912 4.234491202126378e-09\n",
      "The absolute error is 4.234491202126378e-09\n"
     ]
    }
   ],
   "source": [
    "# Define variavles\n",
    "import math\n",
    "pi = math.pi\n",
    "n = 0\n",
    "f = 0\n",
    "x = 3 * pi / 2\n",
    "s = math.sin (x)\n",
    "# repeat for fifteen times\n",
    "while abs(s - f) > 1e-8 :\n",
    "    f = f + (-1)**n * (x**(2 * n + 1)) / (math.factorial (2 * n + 1))\n",
    "    print (n + 1, f, abs (s - f))\n",
    "    n = n + 1\n",
    "print ('The absolute error is', abs (s - f))"
   ]
  },
  {
   "cell_type": "code",
   "execution_count": null,
   "metadata": {
    "collapsed": true
   },
   "outputs": [],
   "source": []
  }
 ],
 "metadata": {
  "kernelspec": {
   "display_name": "Python 3",
   "language": "python",
   "name": "python3"
  },
  "language_info": {
   "codemirror_mode": {
    "name": "ipython",
    "version": 3
   },
   "file_extension": ".py",
   "mimetype": "text/x-python",
   "name": "python",
   "nbconvert_exporter": "python",
   "pygments_lexer": "ipython3",
   "version": "3.5.1"
  }
 },
 "nbformat": 4,
 "nbformat_minor": 1
}
