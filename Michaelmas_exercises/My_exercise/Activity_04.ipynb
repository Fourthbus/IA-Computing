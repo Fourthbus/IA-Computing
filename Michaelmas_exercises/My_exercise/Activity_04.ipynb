{
 "cells": [
  {
   "cell_type": "markdown",
   "metadata": {},
   "source": [
    "# Activity 4"
   ]
  },
  {
   "cell_type": "markdown",
   "metadata": {},
   "source": [
    "## Exercise 04.1"
   ]
  },
  {
   "cell_type": "code",
   "execution_count": 1,
   "metadata": {
    "collapsed": false
   },
   "outputs": [
    {
     "name": "stdout",
     "output_type": "stream",
     "text": [
      "0 True\n",
      "1 False\n",
      "2 True\n",
      "3 False\n",
      "4 True\n"
     ]
    }
   ],
   "source": [
    "def is_odd (a):\n",
    "    'Compute the remainder of a when deviede by two'\n",
    "    if a % 2 == 0:\n",
    "        return True\n",
    "    else:\n",
    "        return False\n",
    "## Repeat five times to be confident\n",
    "for n in range (5):\n",
    "    print (n, is_odd (n))"
   ]
  },
  {
   "cell_type": "markdown",
   "metadata": {},
   "source": [
    "## Exercise 04.2"
   ]
  },
  {
   "cell_type": "code",
   "execution_count": 2,
   "metadata": {
    "collapsed": false
   },
   "outputs": [
    {
     "name": "stdout",
     "output_type": "stream",
     "text": [
      "7.483314773547883\n"
     ]
    }
   ],
   "source": [
    "def vector_mag (i=0, j=0, k=0):\n",
    "    'Computr the magnitude'\n",
    "    return (i**2 + j**2 + k**2)**(1 / 2)\n",
    "print (vector_mag (2, 4, 6))\n",
    "# Expected to be 7.48331477"
   ]
  },
  {
   "cell_type": "markdown",
   "metadata": {},
   "source": [
    "## Exercise 04.3"
   ]
  },
  {
   "cell_type": "code",
   "execution_count": 3,
   "metadata": {
    "collapsed": false
   },
   "outputs": [
    {
     "name": "stdout",
     "output_type": "stream",
     "text": [
      "1.0\n"
     ]
    }
   ],
   "source": [
    "def triangle_area (x0, y0, x1, y1, x2, y2):\n",
    "    'Compute A'\n",
    "    A = abs (1/2 * ((x0 * (y1 - y2)) + (x1 * (y2 - y0)) + (x2 * (y0 - y1))))\n",
    "    return A\n",
    "# For the vertices (0,0) (-2,0) (-1,-1)\n",
    "print (triangle_area (0, 0, -2, 0, -1, -1))\n",
    "# Expected to be 1.0"
   ]
  },
  {
   "cell_type": "markdown",
   "metadata": {},
   "source": [
    "## Exercise 04.4"
   ]
  },
  {
   "cell_type": "code",
   "execution_count": 4,
   "metadata": {
    "collapsed": false
   },
   "outputs": [
    {
     "name": "stdout",
     "output_type": "stream",
     "text": [
      "3628800\n",
      "Reference factorial: 3628800\n"
     ]
    }
   ],
   "source": [
    "import math\n",
    "def fac (n):\n",
    "    'compute factorial for recursion'\n",
    "    if n == 0:\n",
    "        return 1\n",
    "    else:\n",
    "        return (n) * fac (n-1)\n",
    "print (fac (10))\n",
    "print(\"Reference factorial:\", math.factorial(10))"
   ]
  },
  {
   "cell_type": "markdown",
   "metadata": {},
   "source": [
    "## Exercise 04.5"
   ]
  },
  {
   "cell_type": "code",
   "execution_count": 3,
   "metadata": {
    "collapsed": false
   },
   "outputs": [
    {
     "name": "stdout",
     "output_type": "stream",
     "text": [
      "0.01171875 -2.98828125 10\n"
     ]
    }
   ],
   "source": [
    "# !!! NO IDEA OF THE 'f'\n",
    "def compute_root(f, x0, x1, tol, max_it):\n",
    "    'compute the approximation'\n",
    "# count operation number\n",
    "    num_it = 0\n",
    "    while num_it < max_it:\n",
    "# define mid value of the range\n",
    "        x = (x0 + x1) / 2\n",
    "        y = (f(x))\n",
    "# accumulate number of operation\n",
    "        num_it = num_it + 1\n",
    "# update x\n",
    "        if y * (f(x0)) < 0:\n",
    "            x1 = x\n",
    "        else:\n",
    "            x0 = x\n",
    "# judge tolerance\n",
    "        if abs (y) < tol:\n",
    "            break\n",
    "    return y, x, num_it\n",
    "\n",
    "def f(x):\n",
    "    'compute the function'\n",
    "    return x**3 - 6 * x**2 + 4 * x + 12\n",
    "def my_function(x):\n",
    "    return x+3\n",
    "def function2(x):\n",
    "    return x**2\n",
    "\n",
    "f_x, x_m, n = compute_root(my_function, -10, 10, 1e-6, 10)\n",
    "print (f_x, x_m, n)"
   ]
  },
  {
   "cell_type": "code",
   "execution_count": null,
   "metadata": {
    "collapsed": true
   },
   "outputs": [],
   "source": []
  }
 ],
 "metadata": {
  "kernelspec": {
   "display_name": "Python 3",
   "language": "python",
   "name": "python3"
  },
  "language_info": {
   "codemirror_mode": {
    "name": "ipython",
    "version": 3
   },
   "file_extension": ".py",
   "mimetype": "text/x-python",
   "name": "python",
   "nbconvert_exporter": "python",
   "pygments_lexer": "ipython3",
   "version": "3.5.1"
  }
 },
 "nbformat": 4,
 "nbformat_minor": 1
}
