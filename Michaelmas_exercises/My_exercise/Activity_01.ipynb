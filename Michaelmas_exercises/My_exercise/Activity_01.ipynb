{
 "cells": [
  {
   "cell_type": "markdown",
   "metadata": {},
   "source": [
    "# Activity 1"
   ]
  },
  {
   "cell_type": "markdown",
   "metadata": {},
   "source": [
    "## Exercise 01.1"
   ]
  },
  {
   "cell_type": "code",
   "execution_count": 1,
   "metadata": {
    "collapsed": false
   },
   "outputs": [
    {
     "name": "stdout",
     "output_type": "stream",
     "text": [
      "25.555555555555557\n"
     ]
    }
   ],
   "source": [
    "# Define temperature\n",
    "T_f = 78\n",
    "\n",
    "# Calaulate by formula\n",
    "T_c = 5 / 9 * ( T_f - 32 )\n",
    "print(T_c)"
   ]
  },
  {
   "cell_type": "markdown",
   "metadata": {},
   "source": [
    "## Exercise 01.2"
   ]
  },
  {
   "cell_type": "code",
   "execution_count": 2,
   "metadata": {
    "collapsed": false
   },
   "outputs": [
    {
     "name": "stdout",
     "output_type": "stream",
     "text": [
      "What is the loan principle? 15000\n",
      "How many day of saving?28.\n",
      "19.862861238410915\n"
     ]
    }
   ],
   "source": [
    "## Get loan principle input from user\n",
    "principle = float(input('What is the loan principle? '))\n",
    "# Get bank rate\n",
    "rate = 0.25 / 100\n",
    "# Get rate over the bank rate\n",
    "rateover = 1.49 / 100\n",
    "# Get period\n",
    "day = float(input('How many day of saving?'))\n",
    "interest = principle * ((1 + rate + rateover)** (day / 365)) - principle\n",
    "print(interest)"
   ]
  }
 ],
 "metadata": {
  "kernelspec": {
   "display_name": "Python 3",
   "language": "python",
   "name": "python3"
  },
  "language_info": {
   "codemirror_mode": {
    "name": "ipython",
    "version": 3
   },
   "file_extension": ".py",
   "mimetype": "text/x-python",
   "name": "python",
   "nbconvert_exporter": "python",
   "pygments_lexer": "ipython3",
   "version": "3.5.1"
  }
 },
 "nbformat": 4,
 "nbformat_minor": 1
}
