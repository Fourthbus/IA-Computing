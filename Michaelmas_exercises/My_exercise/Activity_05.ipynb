{
 "cells": [
  {
   "cell_type": "markdown",
   "metadata": {},
   "source": [
    "# Activity 5"
   ]
  },
  {
   "cell_type": "markdown",
   "metadata": {},
   "source": [
    "## Exercise 05.1"
   ]
  },
  {
   "cell_type": "code",
   "execution_count": 1,
   "metadata": {
    "collapsed": false
   },
   "outputs": [
    {
     "name": "stdout",
     "output_type": "stream",
     "text": [
      "1 4\n",
      "2 9\n",
      "3 10\n",
      "4 9\n",
      "5 7\n",
      "6 8\n",
      "7 2\n",
      "8 3\n",
      "9 6\n",
      "10 4\n"
     ]
    }
   ],
   "source": [
    "import random\n",
    "# Define trial times and number of sides\n",
    "roll_time = 10\n",
    "sides = 10\n",
    "# Repeat\n",
    "for i in range (roll_time):\n",
    "    n = random.randint (1, sides)\n",
    "    print (i+1, n)"
   ]
  },
  {
   "cell_type": "code",
   "execution_count": 2,
   "metadata": {
    "collapsed": false
   },
   "outputs": [
    {
     "name": "stdout",
     "output_type": "stream",
     "text": [
      "1 3.504789904201916\n",
      "2 3.492410151796964\n",
      "3 3.493470130597388\n",
      "4 3.513489730205396\n",
      "5 3.504269914601708\n",
      "6 3.491670166596668\n",
      "7 3.502289954200916\n",
      "8 3.4974300513989722\n",
      "9 3.49345013099738\n",
      "10 3.506769864602708\n",
      "3.5000039999200014\n",
      "It is a fair dice.\n"
     ]
    }
   ],
   "source": [
    "import random\n",
    "sumavg = 0\n",
    "for t in range (10):\n",
    "    roll_time = 50000\n",
    "    sides = 6\n",
    "    n = 0\n",
    "    for i in range (roll_time):\n",
    "        n = n + random.randint (1, sides)\n",
    "    avg = n / (roll_time + 1)\n",
    "    sumavg = avg + sumavg\n",
    "    print (t + 1, avg)\n",
    "avg_avg = sumavg / (t + 1)\n",
    "print (avg_avg)\n",
    "if avg_avg >=3.48 and avg_avg <= 3.52:\n",
    "    print ('It is a fair dice.')\n",
    "else:\n",
    "    print ('It is probably not a fair dice.')"
   ]
  },
  {
   "cell_type": "markdown",
   "metadata": {},
   "source": [
    "## Exercise 05.2"
   ]
  },
  {
   "cell_type": "code",
   "execution_count": 3,
   "metadata": {
    "collapsed": false
   },
   "outputs": [
    {
     "name": "stdout",
     "output_type": "stream",
     "text": [
      "<class 'bytes'>\n",
      "Number of bytes for uncompressed string: 85700\n",
      "Number of bytes for compressed string: 973\n",
      "Compression efficiency:  0.011353558926487747\n"
     ]
    }
   ],
   "source": [
    "# Import the compression module\n",
    "import zlib\n",
    "\n",
    "# Create a string that we wish to compress\n",
    "shake = \"\"\"\n",
    "    Welcome, dear Rosencrantz and Guildenstern!\n",
    "    Moreover that we much did long to see you,\n",
    "    The need we have to use you did provoke\n",
    "    Our hasty sending. Something have you heard\n",
    "    Of Hamlet's transformation; so call it,\n",
    "    Sith nor the exterior nor the inward man\n",
    "    Resembles that it was. What it should be,\n",
    "    More than his father's death, that thus hath put him\n",
    "    So much from the understanding of himself,\n",
    "    I cannot dream of: I entreat you both,\n",
    "    That, being of so young days brought up with him,\n",
    "    And sith so neighbour'd to his youth and havior,\n",
    "    That you vouchsafe your rest here in our court\n",
    "    Some little time: so by your companies\n",
    "    To draw him on to pleasures, and to gather,\n",
    "    So much as from occasion you may glean,\n",
    "    Whether aught, to us unknown, afflicts him thus,\n",
    "    That, open'd, lies within our remedy.\"\"\"\n",
    "\n",
    "# Repeat by 100 times\n",
    "text = shake * 100\n",
    "\n",
    "# Convert Python string to bytes, and check type\n",
    "text_bytes = text.encode(\"utf-8\")\n",
    "print(type(text_bytes))\n",
    "\n",
    "# Get number of bytes (memory) used to store string\n",
    "print(\"Number of bytes for uncompressed string:\", len(text_bytes))\n",
    "\n",
    "# Compress string and get number of byes used for compressed string\n",
    "text_comp = zlib.compress(text_bytes)\n",
    "print(\"Number of bytes for compressed string:\", len(text_comp))\n",
    "\n",
    "# Display the compression efficiency\n",
    "print(\"Compression efficiency: \", len(text_comp)/len(text_bytes))\n",
    "\n",
    "# Decompress the string\n",
    "text_decomp = zlib.decompress(text_comp)\n",
    "\n",
    "# Check that original and decompressed string are the same (more on assert later)\n",
    "if text != text_decomp.decode(\"utf-8\"):\n",
    "    print(\"Problem: original and decompressed string differ.\")"
   ]
  },
  {
   "cell_type": "code",
   "execution_count": 4,
   "metadata": {
    "collapsed": false
   },
   "outputs": [
    {
     "name": "stdout",
     "output_type": "stream",
     "text": [
      "<class 'bytes'>\n",
      "Number of bytes for uncompressed string: 85700\n",
      "Number of bytes for compressed string: 64470\n",
      "Compression efficiency:  0.7522753792298716\n"
     ]
    }
   ],
   "source": [
    "# second exercise\n",
    "import random\n",
    "import string\n",
    "\n",
    "# generate random string\n",
    "def random_string(N):\n",
    "    return ''.join([random.choice(string.ascii_letters + string.digits) for n in range(N)])\n",
    "\n",
    "text = random_string(len(text_bytes))\n",
    "\n",
    "# Convert Python string to bytes, and check type\n",
    "text_bytes = text.encode(\"utf-8\")\n",
    "print(type(text_bytes))\n",
    "\n",
    "# Get number of bytes (memory) used to store string\n",
    "print(\"Number of bytes for uncompressed string:\", len(text_bytes))\n",
    "\n",
    "# Compress string and get number of byes used for compressed string\n",
    "text_comp = zlib.compress(text_bytes)\n",
    "print(\"Number of bytes for compressed string:\", len(text_comp))\n",
    "\n",
    "# Display the compression efficiency\n",
    "print(\"Compression efficiency: \", len(text_comp)/len(text_bytes))\n",
    "\n",
    "# Decompress the string\n",
    "text_decomp = zlib.decompress(text_comp)\n",
    "\n",
    "# Check that original and decompressed string are the same (more on assert later)\n",
    "if text != text_decomp.decode(\"utf-8\"):\n",
    "    print(\"Problem: original and decompressed string differ.\")"
   ]
  },
  {
   "cell_type": "code",
   "execution_count": null,
   "metadata": {
    "collapsed": true
   },
   "outputs": [],
   "source": []
  }
 ],
 "metadata": {
  "kernelspec": {
   "display_name": "Python 3",
   "language": "python",
   "name": "python3"
  },
  "language_info": {
   "codemirror_mode": {
    "name": "ipython",
    "version": 3
   },
   "file_extension": ".py",
   "mimetype": "text/x-python",
   "name": "python",
   "nbconvert_exporter": "python",
   "pygments_lexer": "ipython3",
   "version": "3.5.1"
  }
 },
 "nbformat": 4,
 "nbformat_minor": 1
}
