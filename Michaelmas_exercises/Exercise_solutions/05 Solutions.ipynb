{
 "cells": [
  {
   "cell_type": "markdown",
   "metadata": {},
   "source": [
    "# Solutions for Exercise 05\n",
    "\n",
    "Following are the solutions to problems contained in notebook 05"
   ]
  },
  {
   "cell_type": "markdown",
   "metadata": {},
   "source": [
    "## Exercise 05.1:\n",
    "Creating a dice roller for dice size $n$ \n",
    "Checking whether dice is fair for dice size $n=6$"
   ]
  },
  {
   "cell_type": "code",
   "execution_count": 4,
   "metadata": {
    "collapsed": false
   },
   "outputs": [
    {
     "name": "stdout",
     "output_type": "stream",
     "text": [
      "3\n",
      "3.50926\n"
     ]
    }
   ],
   "source": [
    "from random import randint\n",
    "\n",
    "def roll_dice(n):\n",
    "    return randint(1,n)\n",
    "\n",
    "def check_for_fair():\n",
    "    sum = 0\n",
    "    for i in range(50000):\n",
    "        sum += roll_dice(6)\n",
    "    return sum/50000\n",
    "    \n",
    "\n",
    "dice_size = 6\n",
    "\n",
    "dice_num = roll_dice(dice_size)\n",
    "\n",
    "print(dice_num)\n",
    "print(check_for_fair())"
   ]
  },
  {
   "cell_type": "markdown",
   "metadata": {
    "collapsed": true
   },
   "source": [
    "Dice is far as mean of 50000 rolls is about 3.5"
   ]
  },
  {
   "cell_type": "markdown",
   "metadata": {},
   "source": [
    "## Exercise 05.2\n",
    "Creating a text compressor"
   ]
  },
  {
   "cell_type": "code",
   "execution_count": 23,
   "metadata": {
    "collapsed": false
   },
   "outputs": [
    {
     "name": "stdout",
     "output_type": "stream",
     "text": [
      "<class 'bytes'>\n",
      "Number of bytes for uncompressed string: 78500\n",
      "Number of bytes for compressed string: 925\n",
      "Compression efficiency:  0.01178343949044586\n",
      "\n",
      "\n",
      "Number of bytes for uncompressed string: 78500\n",
      "Number of bytes for compressed string: 59030\n",
      "Compression efficiency:  0.7519745222929937\n"
     ]
    }
   ],
   "source": [
    "\n",
    "# Import the compression module\n",
    "import zlib\n",
    "\n",
    "import random\n",
    "import string\n",
    "\n",
    "def random_string(N):\n",
    "    return ''.join([random.choice(string.ascii_letters + string.digits) for n in range(N)])\n",
    "\n",
    "\n",
    "# Create a string that we wish to compress\n",
    "text = \"\"\"\n",
    "Welcome, dear Rosencrantz and Guildenstern!\n",
    "Moreover that we much did long to see you,\n",
    "The need we have to use you did provoke\n",
    "Our hasty sending. Something have you heard\n",
    "Of Hamlet's transformation; so call it,\n",
    "Sith nor the exterior nor the inward man\n",
    "Resembles that it was. What it should be,\n",
    "More than his father's death, that thus hath put him\n",
    "So much from the understanding of himself,\n",
    "I cannot dream of: I entreat you both,\n",
    "That, being of so young days brought up with him,\n",
    "And sith so neighbour'd to his youth and havior,\n",
    "That you vouchsafe your rest here in our court\n",
    "Some little time: so by your companies\n",
    "To draw him on to pleasures, and to gather,\n",
    "So much as from occasion you may glean,\n",
    "Whether aught, to us unknown, afflicts him thus,\n",
    "That, open'd, lies within our remedy.\"\"\" * 100\n",
    "\n",
    "random_text = random_string(len(text))\n",
    "\n",
    "random_bytes = random_text.encode(\"utf-8\")\n",
    "\n",
    "# Convert Python string to bytes, and check type\n",
    "text_bytes = text.encode(\"utf-8\")\n",
    "print(type(text_bytes))\n",
    "\n",
    "# Get number of bytes (memory) used to store string\n",
    "print(\"Number of bytes for uncompressed string:\", len(text_bytes))\n",
    "\n",
    "# Compress string and get number of byes used for compressed string\n",
    "text_comp = zlib.compress(text_bytes)\n",
    "print(\"Number of bytes for compressed string:\", len(text_comp))\n",
    "\n",
    "# Display the compression efficiency\n",
    "print(\"Compression efficiency: \", (len(text_comp)/len(text_bytes)))\n",
    "\n",
    "# Decompress the string\n",
    "text_decomp = zlib.decompress(text_comp)\n",
    "\n",
    "# Check that original and decompressed string are the same (more on assert later)\n",
    "if text != text_decomp.decode(\"utf-8\"):\n",
    "    print(\"Problem: original and decompressed string differ.\")\n",
    "    \n",
    "###Working on random string###   \n",
    "\n",
    "# Get number of bytes (memory) used to store string\n",
    "print(\"\\n\\nNumber of bytes for uncompressed string:\", len(random_bytes))\n",
    "\n",
    "# Compress string and get number of byes used for compressed string\n",
    "random_comp = zlib.compress(random_bytes)\n",
    "print(\"Number of bytes for compressed string:\", len(random_comp))\n",
    "\n",
    "# Display the compression efficiency\n",
    "print(\"Compression efficiency: \", (len(random_comp)/len(random_bytes)))\n",
    "\n",
    "# Decompress the string\n",
    "random_decomp = zlib.decompress(random_comp)\n",
    "\n",
    "# Check that original and decompressed string are the same (more on assert later)\n",
    "if random_text != random_decomp.decode(\"utf-8\"):\n",
    "    print(\"Problem: original and decompressed string differ.\")"
   ]
  },
  {
   "cell_type": "code",
   "execution_count": null,
   "metadata": {
    "collapsed": true
   },
   "outputs": [],
   "source": []
  },
  {
   "cell_type": "code",
   "execution_count": null,
   "metadata": {
    "collapsed": true
   },
   "outputs": [],
   "source": []
  }
 ],
 "metadata": {
  "kernelspec": {
   "display_name": "Python 3",
   "language": "python",
   "name": "python3"
  },
  "language_info": {
   "codemirror_mode": {
    "name": "ipython",
    "version": 3
   },
   "file_extension": ".py",
   "mimetype": "text/x-python",
   "name": "python",
   "nbconvert_exporter": "python",
   "pygments_lexer": "ipython3",
   "version": "3.5.1"
  }
 },
 "nbformat": 4,
 "nbformat_minor": 1
}
