{
 "cells": [
  {
   "cell_type": "markdown",
   "metadata": {},
   "source": [
    "# Solutions for Exercise 04\n",
    "\n",
    "Following are the solutions to problems contained in notebook 04"
   ]
  },
  {
   "cell_type": "markdown",
   "metadata": {},
   "source": [
    "## Exercise 04.1:\n",
    "Creating a function that returns bool vals for whether a integer is odd"
   ]
  },
  {
   "cell_type": "code",
   "execution_count": 14,
   "metadata": {
    "collapsed": false
   },
   "outputs": [
    {
     "name": "stdout",
     "output_type": "stream",
     "text": [
      "True\n"
     ]
    }
   ],
   "source": [
    "import math\n",
    "\n",
    "def is_odd(x):\n",
    "    if math.floor(x/2)*2 == x:\n",
    "        return False\n",
    "    else:\n",
    "        return True\n",
    "    \n",
    "print (is_odd(3))"
   ]
  },
  {
   "cell_type": "markdown",
   "metadata": {},
   "source": [
    "## Exercise 04.1:\n",
    "Creating a function that returns vector magnitude of length 2 or 3"
   ]
  },
  {
   "cell_type": "code",
   "execution_count": 18,
   "metadata": {
    "collapsed": false
   },
   "outputs": [
    {
     "name": "stdout",
     "output_type": "stream",
     "text": [
      "5.0\n",
      "7.0710678118654755\n"
     ]
    }
   ],
   "source": [
    "def vec_mag(i, j, k=0):\n",
    "    return (i**2 + j**2 + k**2)**0.5\n",
    "\n",
    "print(vec_mag(3,4))\n",
    "print(vec_mag(3,4,5))"
   ]
  },
  {
   "cell_type": "markdown",
   "metadata": {},
   "source": [
    "## Exercise 04.2:\n",
    "Creating a function that returns the area of a triangle given its cartesian coordinates $(x_0,y_0)$,$(x_1,y_1)$,$(x_2,y_2)$"
   ]
  },
  {
   "cell_type": "code",
   "execution_count": 3,
   "metadata": {
    "collapsed": false
   },
   "outputs": [
    {
     "name": "stdout",
     "output_type": "stream",
     "text": [
      "12.5\n"
     ]
    }
   ],
   "source": [
    "def tri_area(x0,y0,x1,y1,x2,y2):\n",
    "    return abs((x0*(y1 - y2) + x1*(y2 - y0) + x2*(y0 - y1))/2)\n",
    "\n",
    "print(tri_area(0,0,0,5,5,0))"
   ]
  },
  {
   "cell_type": "markdown",
   "metadata": {},
   "source": [
    "## Exercise 04.3:\n",
    "Program to recursivly find factorials"
   ]
  },
  {
   "cell_type": "code",
   "execution_count": 6,
   "metadata": {
    "collapsed": false
   },
   "outputs": [
    {
     "name": "stdout",
     "output_type": "stream",
     "text": [
      "362880\n"
     ]
    }
   ],
   "source": [
    "def factorial(x):\n",
    "    if x == 1:\n",
    "        return 1\n",
    "    else: \n",
    "        return x*factorial(x-1)\n",
    "\n",
    "print(factorial(9))"
   ]
  },
  {
   "cell_type": "markdown",
   "metadata": {},
   "source": [
    "## Exercise 04.4:\n",
    "Program to calculate, by bisection, a root of a given function"
   ]
  },
  {
   "cell_type": "code",
   "execution_count": 29,
   "metadata": {
    "collapsed": false
   },
   "outputs": [
    {
     "name": "stdout",
     "output_type": "stream",
     "text": [
      "root at x = 1.1541715264320374 \n",
      "f(x(root)) = 2.1863965926627316e-07 \n",
      "Number of iterations: 26\n"
     ]
    }
   ],
   "source": [
    "def func_x(x): #function to bisect\n",
    "    return x**3 + 3*x - 5\n",
    "    \n",
    "def bisect_func(f, x0, x1, tol=1e-6, max_it=50):\n",
    "\n",
    "    \n",
    "    for num_it in range(0, max_it):\n",
    "        x_mid = (x1 + x0) / 2\n",
    "        func_x_mid = f(x_mid)\n",
    "        func_x0 = f(x0)\n",
    "        \n",
    "        if abs(func_x_mid) <= tol:\n",
    "            break\n",
    "        \n",
    "        elif func_x_mid * func_x0 < 0:\n",
    "            x1 = x_mid\n",
    "        else:\n",
    "            x0 = x_mid\n",
    "\n",
    "    return func_x_mid, x_mid, num_it + 1\n",
    "\n",
    "f_x, x_approx, iterations = bisect_func(func_x, -10, 10, 1e-6, 50 )\n",
    "print(\"root at x =\", x_approx, \"\\nf(x(root)) =\", f_x,\"\\nNumber of iterations:\", iterations)"
   ]
  },
  {
   "cell_type": "markdown",
   "metadata": {},
   "source": [
    "### Extention:\n",
    "Recursion method"
   ]
  },
  {
   "cell_type": "code",
   "execution_count": 32,
   "metadata": {
    "collapsed": false
   },
   "outputs": [
    {
     "name": "stdout",
     "output_type": "stream",
     "text": [
      "root at x = 1.1541715264320374 \n",
      "f(x(root)) = 2.1863965926627316e-07 \n",
      "Number of iterations: 26\n"
     ]
    }
   ],
   "source": [
    "def func_x(x): #function to bisect\n",
    "    return x**3 + 3*x - 5\n",
    "    \n",
    "def bisect_func(f, x0, x1, tol=1e-6, max_it=50, it_num = 1):\n",
    "\n",
    "    x_mid = (x1 + x0) / 2\n",
    "    func_x_mid = f(x_mid)\n",
    "    func_x0 = f(x0)\n",
    "    \n",
    "    if it_num == max_it or abs(func_x_mid) <= tol:\n",
    "        return func_x_mid, x_mid, it_num\n",
    "    \n",
    "    elif func_x_mid * func_x0 < 0:\n",
    "        return bisect_func(f, x0, x_mid, tol, max_it, it_num + 1)\n",
    "    else:\n",
    "        return bisect_func(f, x_mid, x1, tol, max_it, it_num + 1)\n",
    "    \n",
    "    \n",
    "    \n",
    "\n",
    "f_x, x_approx, iterations = bisect_func(func_x, -10, 10, 1e-6, 50 )\n",
    "print(\"root at x =\", x_approx, \"\\nf(x(root)) =\", f_x,\"\\nNumber of iterations:\", iterations)"
   ]
  },
  {
   "cell_type": "code",
   "execution_count": null,
   "metadata": {
    "collapsed": true
   },
   "outputs": [],
   "source": []
  }
 ],
 "metadata": {
  "kernelspec": {
   "display_name": "Python 3",
   "language": "python",
   "name": "python3"
  },
  "language_info": {
   "codemirror_mode": {
    "name": "ipython",
    "version": 3
   },
   "file_extension": ".py",
   "mimetype": "text/x-python",
   "name": "python",
   "nbconvert_exporter": "python",
   "pygments_lexer": "ipython3",
   "version": "3.5.1"
  }
 },
 "nbformat": 4,
 "nbformat_minor": 1
}
