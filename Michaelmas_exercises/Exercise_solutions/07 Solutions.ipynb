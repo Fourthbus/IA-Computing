{
 "cells": [
  {
   "cell_type": "markdown",
   "metadata": {},
   "source": [
    "# Exercise 07 Solutions"
   ]
  },
  {
   "cell_type": "markdown",
   "metadata": {},
   "source": [
    "## Exersice 07.1\n",
    "Summing arrays using two methods and comparing times"
   ]
  },
  {
   "cell_type": "code",
   "execution_count": 1,
   "metadata": {
    "collapsed": false
   },
   "outputs": [
    {
     "name": "stdout",
     "output_type": "stream",
     "text": [
      "CPU times: user 16 ms, sys: 20 ms, total: 36 ms\n",
      "Wall time: 38.3 ms\n",
      "CPU times: user 4.21 s, sys: 116 ms, total: 4.33 s\n",
      "Wall time: 4.33 s\n"
     ]
    }
   ],
   "source": [
    "import numpy as np\n",
    "\n",
    "x = np.random.rand(8000000)\n",
    "y = np.random.rand(8000000)\n",
    "\n",
    "\n",
    "\n",
    "%time z1 = x + y\n",
    "\n",
    "\n",
    "%time z2 = [x[n] + y[n] for n in range(len(x)) ]\n"
   ]
  },
  {
   "cell_type": "markdown",
   "metadata": {},
   "source": [
    "It is very clear that the system employed by numpy to summate the arrays x and y is far more efficient than using a for loop to iterate over each value and find its sum"
   ]
  },
  {
   "cell_type": "markdown",
   "metadata": {},
   "source": [
    "## Exercise 07.2\n",
    "Script to take and analyise raw scrores for an examination in various ways"
   ]
  },
  {
   "cell_type": "code",
   "execution_count": 4,
   "metadata": {
    "collapsed": false
   },
   "outputs": [
    {
     "name": "stdout",
     "output_type": "stream",
     "text": [
      "[ 13.          40.          58.33333333  70.          96.66666667]\n",
      "(40.0, 70.0, 56.111111111111114)\n"
     ]
    }
   ],
   "source": [
    "import numpy as np\n",
    "\n",
    "scores = np.array([58.0, 35.0, 24.0, 42, 7.8])\n",
    "\n",
    "def sorted_scores(raw_scores):\n",
    "    raw_scores = raw_scores / 60 * 100\n",
    "    return np.sort(raw_scores)\n",
    "\n",
    "def score_analysis(raw_scores, exclude=False):\n",
    "    raw_scores = raw_scores / 60 * 100\n",
    "\n",
    "    if exclude == True:\n",
    "        np.sort(raw_scores)\n",
    "        raw_scores = raw_scores[1:-1]\n",
    "    \n",
    "    return raw_scores.min(), raw_scores.max(), raw_scores.mean()\n",
    "\n",
    "print(sorted_scores(scores))\n",
    "print(score_analysis(scores,True))"
   ]
  },
  {
   "cell_type": "markdown",
   "metadata": {
    "collapsed": true
   },
   "source": [
    "## Exercise 07.3\n",
    "Array slicing"
   ]
  },
  {
   "cell_type": "code",
   "execution_count": 3,
   "metadata": {
    "collapsed": false
   },
   "outputs": [
    {
     "name": "stdout",
     "output_type": "stream",
     "text": [
      "[  -2.43   54.7     3.64 -113.2 ] \n",
      "\n",
      "[[  4.     7.    -2.43  67.1 ]\n",
      " [ -4.    64.    54.7   -3.33]] \n",
      "\n",
      "[[   3.64    4.11]\n",
      " [-113.2   323.22]] \n",
      "\n",
      "[[   4.     -4.      2.43    1.2 ]\n",
      " [   7.     64.     23.2     2.5 ]\n",
      " [  -2.43   54.7     3.64 -113.2 ]\n",
      " [  67.1    -3.33    4.11  323.22]] \n",
      "\n",
      "391.1\n"
     ]
    }
   ],
   "source": [
    "A = np.array([[4.0, 7.0, -2.43, 67.1,],\n",
    "             [-4.0, 64.0, 54.7, -3.33],\n",
    "             [2.43, 23.2, 3.64, 4.11],\n",
    "             [1.2, 2.5, -113.2, 323.22]])\n",
    "\n",
    "A_col3 = A[:,2]\n",
    "A_row1_2 = A[0:2,:]\n",
    "A_block = A[-2:,-2:]\n",
    "trans_A = A.transpose()\n",
    "A_sum_last = np.sum(A[:,-1])\n",
    "\n",
    "\n",
    "print(A_col3,\"\\n\")\n",
    "print(A_row1_2,\"\\n\")\n",
    "print(A_block,\"\\n\")\n",
    "print(trans_A,\"\\n\")\n",
    "print(A_sum_last)"
   ]
  },
  {
   "cell_type": "markdown",
   "metadata": {},
   "source": [
    "## Exercise 07.4 \n",
    "SciPy bisect V own bisect"
   ]
  },
  {
   "cell_type": "code",
   "execution_count": 38,
   "metadata": {
    "collapsed": false
   },
   "outputs": [
    {
     "name": "stdout",
     "output_type": "stream",
     "text": [
      "-4.476638473570347\n",
      "CPU times: user 0 ns, sys: 0 ns, total: 0 ns\n",
      "Wall time: 295 µs\n",
      "-4.476638468448073\n",
      "CPU times: user 0 ns, sys: 0 ns, total: 0 ns\n",
      "Wall time: 248 µs\n"
     ]
    }
   ],
   "source": [
    "from scipy import optimize\n",
    "\n",
    "def func_x(x):\n",
    "    return x**4 + 3*x**3 - 8*x**2 - 6*x + 1 + - np.exp(x)\n",
    "\n",
    "def bisect_func(f, x0, x1, tol=1e-6, max_it=50):\n",
    "\n",
    "    \n",
    "    for num_it in range(0, max_it):\n",
    "        x_mid = (x1 + x0) / 2\n",
    "        func_x_mid = f(x_mid)\n",
    "        func_x0 = f(x0)\n",
    "        \n",
    "        if abs(func_x_mid) <= tol:\n",
    "            break\n",
    "        \n",
    "        elif func_x_mid * func_x0 < 0:\n",
    "            x1 = x_mid\n",
    "        else:\n",
    "            x0 = x_mid\n",
    "\n",
    "    return x_mid\n",
    "\n",
    "%time print(optimize.bisect(func_x,-5,-4,xtol=1e-8,maxiter=50))\n",
    "%time print(bisect_func(func_x,-5,-4,1e-8,50))\n",
    "\n"
   ]
  },
  {
   "cell_type": "code",
   "execution_count": null,
   "metadata": {
    "collapsed": true
   },
   "outputs": [],
   "source": []
  }
 ],
 "metadata": {
  "kernelspec": {
   "display_name": "Python 3",
   "language": "python",
   "name": "python3"
  },
  "language_info": {
   "codemirror_mode": {
    "name": "ipython",
    "version": 3
   },
   "file_extension": ".py",
   "mimetype": "text/x-python",
   "name": "python",
   "nbconvert_exporter": "python",
   "pygments_lexer": "ipython3",
   "version": "3.5.1"
  }
 },
 "nbformat": 4,
 "nbformat_minor": 1
}
