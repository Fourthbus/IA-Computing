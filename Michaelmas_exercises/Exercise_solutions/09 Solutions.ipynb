{
 "cells": [
  {
   "cell_type": "markdown",
   "metadata": {},
   "source": [
    "# 09 Solutions"
   ]
  },
  {
   "cell_type": "markdown",
   "metadata": {},
   "source": [
    "## Exercise 09.1"
   ]
  },
  {
   "cell_type": "code",
   "execution_count": 1,
   "metadata": {
    "collapsed": false
   },
   "outputs": [],
   "source": [
    "def f(n): \n",
    "    \"Compute the nth Fibonacci number using recursion\"\n",
    "    \n",
    "    if n < 0:\n",
    "        raise ValueError(\"Invalid value for n (n must be: n > 0 )\")\n",
    "    elif n == 0:\n",
    "        return 0  # This doesn't call f, so it breaks out of the recursion loop\n",
    "    elif n == 1:\n",
    "        return 1  # This doesn't call f, so it breaks out of the recursion loop\n",
    "    else:\n",
    "        return f(n - 1) + f(n - 2)  # This calls f for n-1 and n-2 (recursion), and returns the sum "
   ]
  },
  {
   "cell_type": "code",
   "execution_count": 2,
   "metadata": {
    "collapsed": false
   },
   "outputs": [],
   "source": [
    "import pytest \n",
    "\n",
    "with pytest.raises(ValueError):\n",
    "    f(-3)\n",
    "with pytest.raises(ValueError):\n",
    "    f(-6)\n",
    "with pytest.raises(ValueError):\n",
    "    f(-1135)\n",
    "    "
   ]
  },
  {
   "cell_type": "markdown",
   "metadata": {},
   "source": [
    "## Exercise 09.2"
   ]
  },
  {
   "cell_type": "code",
   "execution_count": null,
   "metadata": {
    "collapsed": false
   },
   "outputs": [],
   "source": [
    "while True:\n",
    "    try:\n",
    "        loan_principal = float(input(\"Enter Loan Principal: \")) # user input variables\n",
    "        if loan_principal < 0:\n",
    "            raise ValueError(\"Non positive value\")\n",
    "    except:\n",
    "        print(\"invalid entry, try again\")\n",
    "        continue   \n",
    "    break\n",
    "    \n",
    "while True:\n",
    "    try:\n",
    "        time_days = float(input(\"Enter time in days:\"))\n",
    "        if loan_principal < 0:\n",
    "            raise ValueError(\"Non positive value\")\n",
    "            continue\n",
    "    except:\n",
    "        print(\"invalid entry, try again\")\n",
    "        continue   \n",
    "    break\n",
    "\n",
    "\n",
    "bank_rate = 0.0025 # init other variables\n",
    "rate_over = 0.0149\n",
    "\n",
    "comp_frequency = 365 # interest is calculated every day. This val was unclear in problem layout\n",
    "\n",
    "interest_payable = loan_principal*(1 + (bank_rate + rate_over) / comp_frequency)\\\n",
    "                    **(comp_frequency * time_days / 365) - loan_principal # calc interest (2 lines)\n",
    "\n",
    "print(\"\\n\\nInterest over period {} days: {}\".format(time_days,interest_payable)) # print interest"
   ]
  },
  {
   "cell_type": "markdown",
   "metadata": {
    "collapsed": true
   },
   "source": [
    "## Exercise 09.3 "
   ]
  },
  {
   "cell_type": "code",
   "execution_count": 34,
   "metadata": {
    "collapsed": false
   },
   "outputs": [
    {
     "name": "stdout",
     "output_type": "stream",
     "text": [
      "root at x = 1.1541715264320374 \n",
      "f(x(root)) = 2.1863965926627316e-07 \n",
      "Number of iterations: 26\n"
     ]
    }
   ],
   "source": [
    "def func_x(x): #function to bisect\n",
    "    return x**3 + 3*x - 5\n",
    "    \n",
    "def bisect_func(f, x0, x1, tol=1e-6, max_it=50, it_num = 1):\n",
    "    try:\n",
    "\n",
    "        if it_num > max_it or tol < 0 or x0 == x1 :\n",
    "            raise ValueError()\n",
    "            \n",
    "        x_mid = (x1 + x0) / 2\n",
    "        func_x_mid = f(x_mid)\n",
    "        func_x0 = f(x0)\n",
    "\n",
    "\n",
    "        if abs(func_x_mid) <= tol:\n",
    "            return func_x_mid, x_mid, it_num\n",
    "\n",
    "        elif func_x_mid * func_x0 < 0:\n",
    "            return bisect_func(f, x0, x_mid, tol, max_it, it_num + 1)\n",
    "        else:\n",
    "            return bisect_func(f, x_mid, x1, tol, max_it, it_num + 1)\n",
    "    except:\n",
    "        print(\"---------------------------\\n\\\n",
    "Invalid function entry\\n\\\n",
    "---------------------------\")\n",
    "    \n",
    "        return 0,0,0\n",
    "    \n",
    "\n",
    "f_x, x_approx, iterations = bisect_func(func_x, -10, 10, 1e-6, 50 )\n",
    "print(\"root at x =\", x_approx, \"\\nf(x(root)) =\", f_x,\"\\nNumber of iterations:\", iterations)"
   ]
  }
 ],
 "metadata": {
  "kernelspec": {
   "display_name": "Python 3",
   "language": "python",
   "name": "python3"
  },
  "language_info": {
   "codemirror_mode": {
    "name": "ipython",
    "version": 3
   },
   "file_extension": ".py",
   "mimetype": "text/x-python",
   "name": "python",
   "nbconvert_exporter": "python",
   "pygments_lexer": "ipython3",
   "version": "3.5.1"
  }
 },
 "nbformat": 4,
 "nbformat_minor": 1
}
