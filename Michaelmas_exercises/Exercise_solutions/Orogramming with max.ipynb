{
 "cells": [
  {
   "cell_type": "markdown",
   "metadata": {},
   "source": [
    "## Exersice 02.1\n",
    "\n",
    "$$\n"
   ]
  },
  {
   "cell_type": "code",
   "execution_count": 1,
   "metadata": {
    "collapsed": false
   },
   "outputs": [
    {
     "name": "stdout",
     "output_type": "stream",
     "text": [
      "Root at: 4.534149169921875\n",
      "root near: 4.534070134162903\n",
      "23\n"
     ]
    }
   ],
   "source": [
    "def f(x):\n",
    "    return (x**3) - 6*(x**2) + 4*x + 12\n",
    "\n",
    "x_0 = 3\n",
    "x_1 = 6\n",
    "\n",
    "for iter_n in range(0,15):\n",
    "    x_mid = (x_0 + x_1) / 2\n",
    "    \n",
    "    func_x_0 = f(x_0)\n",
    "    func_x_mid = f(x_mid)\n",
    "    \n",
    "    if func_x_0*func_x_mid < 0:\n",
    "        x_1 = x_mid\n",
    "    else:\n",
    "        x_0 = x_mid\n",
    "\n",
    "print(\"Root at:\",x_mid)\n",
    "\n",
    "iters = 0\n",
    "\n",
    "x_0 = 3\n",
    "x_1 = 6\n",
    "x_mid = (x_0 + x_1) / 2\n",
    "\n",
    "while abs(f(x_mid)) > 1e-6:\n",
    "    \n",
    "    iters += 1\n",
    "    \n",
    "    x_mid = (x_0 + x_1) / 2\n",
    "    \n",
    "    func_x_0 = f(x_0)\n",
    "    func_x_mid = f(x_mid)\n",
    "    \n",
    "    if func_x_0*func_x_mid < 0:\n",
    "        x_1 = x_mid\n",
    "    else:\n",
    "        x_0 = x_mid\n",
    "        \n",
    "print(\"root near:\",x_mid)\n",
    "print(iters)"
   ]
  },
  {
   "cell_type": "code",
   "execution_count": null,
   "metadata": {
    "collapsed": true
   },
   "outputs": [],
   "source": [
    "import math\n",
    "x = 1e7\n",
    "f = 1/(math.sqrt((x**2) - x))"
   ]
  }
 ],
 "metadata": {
  "kernelspec": {
   "display_name": "Python 3",
   "language": "python",
   "name": "python3"
  },
  "language_info": {
   "codemirror_mode": {
    "name": "ipython",
    "version": 3
   },
   "file_extension": ".py",
   "mimetype": "text/x-python",
   "name": "python",
   "nbconvert_exporter": "python",
   "pygments_lexer": "ipython3",
   "version": "3.5.1"
  }
 },
 "nbformat": 4,
 "nbformat_minor": 1
}
