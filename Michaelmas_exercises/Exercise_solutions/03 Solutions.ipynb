{
 "cells": [
  {
   "cell_type": "markdown",
   "metadata": {},
   "source": [
    "# Solutions for Exercise 03\n",
    "\n",
    "Following are the solutions to problems contained in notebook 03"
   ]
  },
  {
   "cell_type": "markdown",
   "metadata": {},
   "source": [
    "## Exercise 03.1:\n",
    "Comparing computed values for\n",
    "\n",
    "$$ \n",
    "d_0 = a \\cdot b + a  \\cdot  c\n",
    "$$\n",
    "\n",
    "and \n",
    "\n",
    "$$ \n",
    "d_1 = a \\cdot (b + c)\n",
    "$$\n",
    "\n",
    "when $a = 100$, $b = 0.1$ and $c = 0.2$"
   ]
  },
  {
   "cell_type": "code",
   "execution_count": 4,
   "metadata": {
    "collapsed": false
   },
   "outputs": [
    {
     "name": "stdout",
     "output_type": "stream",
     "text": [
      "False\n"
     ]
    }
   ],
   "source": [
    "a = 100\n",
    "b = 0.1\n",
    "c = 0.2\n",
    "\n",
    "d_0 = a*b + a*c\n",
    "d_1 = a*(b + c)\n",
    "\n",
    "print(d_0 == d_1)"
   ]
  },
  {
   "cell_type": "markdown",
   "metadata": {
    "collapsed": true
   },
   "source": [
    "## Exercise 03.2:\n",
    "Comparing computed values for\n",
    "$$\n",
    "f(x, y) = (x + y)^{6} \n",
    "$$\n",
    "and \n",
    "$$\n",
    "f(x, y) =  x^6 + 6x^{5}y + 15x^{4}y^{2} + 20x^{3}y^{3} + 15x^{2}y^{4} + 6xy^{5} + y^{6}\n",
    "$$\n",
    "\n",
    "using\n",
    "\n",
    "- $x = 10$ and $y = 10.1$\n",
    "- $x = 10$ and $y = -10.1$"
   ]
  },
  {
   "cell_type": "code",
   "execution_count": 6,
   "metadata": {
    "collapsed": false
   },
   "outputs": [
    {
     "name": "stdout",
     "output_type": "stream",
     "text": [
      "2.9802322387695312e-08\n",
      "\n",
      " 4.183337092378376e-09\n",
      "By analysis: f(10,-10.1) = 1e-6\n",
      "By comp: 9.999999999999788e-07\n",
      "By comp: 9.958166629076004e-07\n"
     ]
    }
   ],
   "source": [
    "def simple_poly(x,y):\n",
    "    return (x + y)**6\n",
    "\n",
    "def expand_poly(x,y):\n",
    "    return x**6 + 6*(x**5)*y + 15*(x**4)*(y**2) + 20*(x**3)*(y**3) + 15*(x**2)*(y**4) + 6*x*(y**5) + y**6\n",
    "\n",
    "print(simple_poly(10,10.1) - expand_poly(10,10.1))\n",
    "print(\"\\n\",simple_poly(10,-10.1) - expand_poly(10,-10.1))\n",
    "\n",
    "print(\"By analysis: f(10,-10.1) = 1e-6\")\n",
    "print(\"By comp:\",simple_poly(10,-10.1))\n",
    "print(\"By comp:\",expand_poly(10,-10.1))"
   ]
  },
  {
   "cell_type": "markdown",
   "metadata": {
    "collapsed": true
   },
   "source": [
    "Thus, using the $(x+y)^6$ method is better as it is closer to the real answer"
   ]
  },
  {
   "cell_type": "markdown",
   "metadata": {},
   "source": [
    "## Exercise 03.3:\n",
    "Computing \n",
    "$$\n",
    "f = \\frac{1}{\\sqrt{x^2 - 1} - x}\n",
    "$$ \n",
    "for large values x:\n",
    "$$\n",
    "f = \\frac{1}{\\sqrt{x^2 - 1} - x}\\cdot\\frac{\\sqrt{x^2 - 1} + x}{\\sqrt{x^2 - 1} + x} = -\\sqrt{x^2 - 1} - x\n",
    "$$"
   ]
  },
  {
   "cell_type": "code",
   "execution_count": 14,
   "metadata": {
    "collapsed": false
   },
   "outputs": [
    {
     "name": "stdout",
     "output_type": "stream",
     "text": [
      "-19999999.999999948\n",
      "-2000000000.0\n"
     ]
    }
   ],
   "source": [
    "def func_x(x):\n",
    "    return -(x**2 - 1)**0.5 - x\n",
    "\n",
    "print (func_x(1e7))\n",
    "print (func_x(1e9))"
   ]
  },
  {
   "cell_type": "markdown",
   "metadata": {},
   "source": [
    "No error occured, but the answer could overflow the max precision of the type float"
   ]
  }
 ],
 "metadata": {
  "kernelspec": {
   "display_name": "Python 3",
   "language": "python",
   "name": "python3"
  },
  "language_info": {
   "codemirror_mode": {
    "name": "ipython",
    "version": 3
   },
   "file_extension": ".py",
   "mimetype": "text/x-python",
   "name": "python",
   "nbconvert_exporter": "python",
   "pygments_lexer": "ipython3",
   "version": "3.5.1"
  }
 },
 "nbformat": 4,
 "nbformat_minor": 1
}
