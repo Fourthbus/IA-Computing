{
 "cells": [
  {
   "cell_type": "markdown",
   "metadata": {},
   "source": [
    "# Solutions for Exercise 02\n",
    "\n",
    "Following are the solutions to problems contained in notebook 02"
   ]
  },
  {
   "cell_type": "markdown",
   "metadata": {},
   "source": [
    "## Execise 02.1:\n",
    "A program that takes an input score and outputs a grade using if... elif..."
   ]
  },
  {
   "cell_type": "code",
   "execution_count": 3,
   "metadata": {
    "collapsed": false
   },
   "outputs": [
    {
     "name": "stdout",
     "output_type": "stream",
     "text": [
      "Input raw test score: 14\n",
      "Grade: Did you try?\n"
     ]
    }
   ],
   "source": [
    "success = False # initialises values\n",
    "grade = 'NULL'\n",
    "\n",
    "while success == False: # while allows for re-entry of score if value entered is invalid\n",
    "    raw_score = float(input(\"Input raw test score: \")) #Raw score input\n",
    "\n",
    "    success = True\n",
    "\n",
    "    if raw_score > 100 or raw_score < 0 or raw_score == None: # checks for score, sets grade to appropriate grade\n",
    "        print(\"Invalid input\")\n",
    "        success = False\n",
    "    elif raw_score >= 82:\n",
    "        grade = 'Excellent'\n",
    "    elif raw_score >= 76.5:\n",
    "        grade = 'Very good'\n",
    "    elif raw_score >= 66:\n",
    "        grade = 'Good'\n",
    "    elif raw_score >= 45:\n",
    "        grade = 'Needs imporvement'\n",
    "    else:\n",
    "        grade = 'Did you try?'\n",
    "\n",
    "\n",
    "print(\"Grade:\",grade) #prints appropriate grade to screen\n"
   ]
  },
  {
   "cell_type": "markdown",
   "metadata": {},
   "source": [
    "## Exercise 02.2:\n",
    "A Program that computes, via bisection, an approx root for function $f(x)$ between known values $x_0$ and $x_1$"
   ]
  },
  {
   "cell_type": "code",
   "execution_count": 4,
   "metadata": {
    "collapsed": false
   },
   "outputs": [
    {
     "name": "stdout",
     "output_type": "stream",
     "text": [
      "Approx root after 15 iterations : 4.534149169921875\n",
      "\n",
      "Approx root for tolerance 1e-06 : 4.534070134162903\n"
     ]
    }
   ],
   "source": [
    "def func_on_x(x): # define function to calculate the f(x)\n",
    "    func_x = x**3 - 6*(x**2) + 4*x + 12\n",
    "    return func_x\n",
    "\n",
    "x_0 = 3\n",
    "x_1 = 6\n",
    "\n",
    "num_iterations = 15\n",
    "\n",
    "##for loop method##\n",
    "\n",
    "for index in range(0,num_iterations): # loop to calc a new root estimate num_iterations times\n",
    "    x_mid = (x_1 + x_0) / 2 # calculate new val for x_mid\n",
    "    \n",
    "    func_x_0 = func_on_x(x_0) # calc f(x_0)\n",
    "    func_x_mid = func_on_x(x_mid) # calc f(x_mid)\n",
    "    \n",
    "    if func_x_0*func_x_mid < 0: # check if root is between\n",
    "        x_1 = x_mid #\n",
    "    else:           # set new x vals if there was/was not a root between\n",
    "        x_0 = x_mid #\n",
    "\n",
    "print(\"Approx root after\",num_iterations, \"iterations :\", x_mid) # print est\n",
    "\n",
    "##do loop (tolerance) method##\n",
    "\n",
    "func_x_tol = 1e-6 # set a tolerance for the estimate\n",
    "\n",
    "x_0 = 3\n",
    "x_1 = 6\n",
    "\n",
    "first_loop = True # show it is first time round\n",
    "\n",
    "while abs(func_x_mid) >= func_x_tol or first_loop == True: # check if estimate in tol (unless first loop)\n",
    "    first_loop = False # next one no longer first loop\n",
    "    \n",
    "    x_mid = (x_1 + x_0) / 2   # the body is idential to for loop method\n",
    "    \n",
    "    func_x_0 = func_on_x(x_0)\n",
    "    func_x_mid = func_on_x(x_mid)\n",
    "    \n",
    "    if func_x_0*func_x_mid < 0:\n",
    "        x_1 = x_mid\n",
    "    else:\n",
    "        x_0 = x_mid\n",
    "\n",
    "print(\"\\nApprox root for tolerance\",func_x_tol, \":\", x_mid)"
   ]
  },
  {
   "cell_type": "markdown",
   "metadata": {},
   "source": [
    "## Exercise 02.3\n",
    "A program that approximates $sin(x)$ using series expansion:\n",
    "$$\n",
    "\\sin(x) = \\sum_{n = 0}^{\\infty} (-1)^n \\frac{x^{2n +1}}{(2n+1)!}\n",
    "$$\n",
    "for 15 terms and then for a precision of $1 \\times 10^{-8}$"
   ]
  },
  {
   "cell_type": "code",
   "execution_count": 13,
   "metadata": {
    "collapsed": false
   },
   "outputs": [
    {
     "name": "stdout",
     "output_type": "stream",
     "text": [
      "-0.9999999999999121\n",
      "-0.9999999998654855\n"
     ]
    }
   ],
   "source": [
    "import math\n",
    "\n",
    "x_val = 3 * math.pi / 2\n",
    "sin_approx = 0\n",
    "\n",
    "def sin_term(x,n):\n",
    "    term_val = ((-1)**n) * (x**(2*n + 1)) / math.factorial(2*n + 1)\n",
    "    return term_val\n",
    "\n",
    "##num terms method##\n",
    "\n",
    "\n",
    "for n in range(0,15):\n",
    "    sin_approx += sin_term(x_val,n)\n",
    "\n",
    "print(sin_approx)\n",
    "\n",
    "##precision method##\n",
    "\n",
    "first_loop = True\n",
    "term_val = 0\n",
    "term_tol = 1e-8\n",
    "n = 0\n",
    "\n",
    "sin_approx = 0\n",
    "\n",
    "while abs(term_val) > term_tol*10 or first_loop == True:\n",
    "\n",
    "    term_val = sin_term(x_val,n)\n",
    "    sin_approx += term_val\n",
    "    first_loop = False\n",
    "\n",
    "    n += 1\n",
    "print(sin_approx)"
   ]
  }
 ],
 "metadata": {
  "kernelspec": {
   "display_name": "Python 3",
   "language": "python",
   "name": "python3"
  },
  "language_info": {
   "codemirror_mode": {
    "name": "ipython",
    "version": 3
   },
   "file_extension": ".py",
   "mimetype": "text/x-python",
   "name": "python",
   "nbconvert_exporter": "python",
   "pygments_lexer": "ipython3",
   "version": "3.5.1"
  }
 },
 "nbformat": 4,
 "nbformat_minor": 1
}
