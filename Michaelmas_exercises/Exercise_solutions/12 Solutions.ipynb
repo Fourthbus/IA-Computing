{
 "cells": [
  {
   "cell_type": "markdown",
   "metadata": {},
   "source": [
    "# 12 Solutions"
   ]
  },
  {
   "cell_type": "markdown",
   "metadata": {},
   "source": [
    "## Exercise 12.1"
   ]
  },
  {
   "cell_type": "code",
   "execution_count": 21,
   "metadata": {
    "collapsed": false
   },
   "outputs": [
    {
     "name": "stdout",
     "output_type": "stream",
     "text": [
      "vect1 size:  3\n",
      "vect2 index 2:  3\n",
      "vect1 norm:  7.0710678118654755\n",
      "vect1 dot vect2:  26\n"
     ]
    }
   ],
   "source": [
    "class MyVector:\n",
    "    def __init__(self, x):\n",
    "        self.x = x\n",
    "        \n",
    "    # Return length of vector\n",
    "    def size(self): \n",
    "        return len(self.x)\n",
    "    \n",
    "    # This allows access by index, e.g. y[2]\n",
    "    def __getitem__(self, index):\n",
    "        return self.x[index]\n",
    "\n",
    "    # Return norm of vector\n",
    "    def norm(self):\n",
    "        total = 0\n",
    "        for items in self.x:\n",
    "            total += items**2\n",
    "        return total**0.5\n",
    "        \n",
    "    # Return dot product of vector with another vector\n",
    "    def dot(self, other):\n",
    "        summation = 0\n",
    "        if len(self.x) == len(other.x):\n",
    "            for i in range(len(self.x)):\n",
    "                summation += self.x[i]*other.x[i]\n",
    "                \n",
    "            return summation\n",
    "        else:\n",
    "            raise ValueError(\"Invalid vector sizes (must be the same)\")\n",
    "            \n",
    "vect1 = MyVector([3,4,5])\n",
    "vect2 = MyVector([1,2,3])\n",
    "\n",
    "print(\"vect1 size: \",vect1.size())\n",
    "print(\"vect2 index 2: \",vect2[2])\n",
    "print(\"vect1 norm: \",vect1.norm())\n",
    "print(\"vect1 dot vect2: \",vect1.dot(vect2))"
   ]
  },
  {
   "cell_type": "markdown",
   "metadata": {},
   "source": [
    "## Exercise 12.2"
   ]
  },
  {
   "cell_type": "code",
   "execution_count": 28,
   "metadata": {
    "collapsed": false
   },
   "outputs": [
    {
     "name": "stdout",
     "output_type": "stream",
     "text": [
      "Surname: Phillips, Forname: Derek, College: Churchill\n",
      "[Surname: Grey, Forname: Anna, College: Trinity Hall, Surname: Grey, Forname: Bobby, College: Girton, Surname: Phillips, Forname: Derek, College: Churchill]\n"
     ]
    }
   ],
   "source": [
    "import datetime\n",
    "\n",
    "class Student:\n",
    "    def __init__(self, surname, forename, birth_year, tripos_year, college, CRSid=None):\n",
    "        self.surname = surname\n",
    "        self.forename = forename\n",
    "        self.birth_year = birth_year\n",
    "        self.tripos_year = tripos_year\n",
    "        self.college = college\n",
    "        self.CRSid = CRSid\n",
    "    \n",
    "    # Return student age (not always true)\n",
    "    def age(self):\n",
    "        return datetime.date.today().year - self.birth_year\n",
    "    \n",
    "    # Print student data\n",
    "    def __repr__(self):\n",
    "        return \"Surname: \"+self.surname+\", Forname: \"+self.forename+\", College: \"+self.college\n",
    "    \n",
    "    def __lt__(self, other):\n",
    "        if self.surname < other.surname:\n",
    "            return True\n",
    "        elif self.surname == other.surname:\n",
    "            if self.forename < other.forename:\n",
    "                return True\n",
    "            else:\n",
    "                return False\n",
    "        else:\n",
    "            return False\n",
    "    \n",
    "    def __gt__(self, other):\n",
    "        if self.surname > other.surname:\n",
    "            return True\n",
    "        elif self.surname == other.surname:\n",
    "            if self.forename > other.forename:\n",
    "                return True\n",
    "            else:\n",
    "                return False\n",
    "        else:\n",
    "            return False\n",
    "\n",
    "class_list = [Student(\"Grey\", \"Bobby\", 1997, 1, \"Girton\", \"BG132\"), Student(\"Phillips\", \"Derek\", 1998, 1, \"Churchill\", \"DP327\"),\\\n",
    "            Student(\"Grey\", \"Anna\", 1994, 3, \"Trinity Hall\", \"AG822\")]\n",
    "\n",
    "class_list[0].age()\n",
    "print(class_list[1])\n",
    "\n",
    "print(sorted(class_list))"
   ]
  },
  {
   "cell_type": "code",
   "execution_count": null,
   "metadata": {
    "collapsed": true
   },
   "outputs": [],
   "source": []
  }
 ],
 "metadata": {
  "kernelspec": {
   "display_name": "Python 3",
   "language": "python",
   "name": "python3"
  },
  "language_info": {
   "codemirror_mode": {
    "name": "ipython",
    "version": 3
   },
   "file_extension": ".py",
   "mimetype": "text/x-python",
   "name": "python",
   "nbconvert_exporter": "python",
   "pygments_lexer": "ipython3",
   "version": "3.5.1"
  }
 },
 "nbformat": 4,
 "nbformat_minor": 1
}
