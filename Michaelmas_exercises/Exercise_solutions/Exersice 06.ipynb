{
 "cells": [
  {
   "cell_type": "markdown",
   "metadata": {},
   "source": [
    "# Exersice 06 Solutions"
   ]
  },
  {
   "cell_type": "markdown",
   "metadata": {},
   "source": [
    "## Exercise 06.1\n",
    "A program, with an improved interface using lists, that calculates the area of a triangle formed from the vertices input into the func"
   ]
  },
  {
   "cell_type": "code",
   "execution_count": 1,
   "metadata": {
    "collapsed": false
   },
   "outputs": [
    {
     "name": "stdout",
     "output_type": "stream",
     "text": [
      "10.0\n"
     ]
    }
   ],
   "source": [
    "def tri_area(v0,v1,v2):\n",
    "    if len(v0) == len(v1) == len(v2) == 2:\n",
    "        return abs((v0[0]*(v1[1]-v2[1])+v1[0]*(v2[1]-v0[1])+v2[0]*(v0[1]-v1[1]))/2)\n",
    "    else:\n",
    "        return \"Invalid Input\"\n",
    "print(tri_area([2,7],[0,5],[5,0]))\n",
    "\n"
   ]
  },
  {
   "cell_type": "markdown",
   "metadata": {},
   "source": [
    "## Exercise 06.2\n",
    "A program that generates the area of a polygon formed from vertices given"
   ]
  },
  {
   "cell_type": "code",
   "execution_count": 2,
   "metadata": {
    "collapsed": false
   },
   "outputs": [
    {
     "name": "stdout",
     "output_type": "stream",
     "text": [
      "32.5\n"
     ]
    }
   ],
   "source": [
    "def poly_area(verts):\n",
    "        sum = 0\n",
    "        for i in range(len(verts)):\n",
    "            if i != len(verts)-1:\n",
    "                j = i + 1\n",
    "            else: \n",
    "                j = 0\n",
    "            sum += verts[i][0]*verts[j][1] - verts[j][0]*verts[i][1]\n",
    "        return abs(sum/2)\n",
    "print(poly_area([[0,0],[0,5],[5,8],[5,0]]))"
   ]
  },
  {
   "cell_type": "markdown",
   "metadata": {
    "collapsed": true
   },
   "source": [
    "## Exercise 06.3\n",
    "A program that evaluates a vector sum"
   ]
  },
  {
   "cell_type": "code",
   "execution_count": 3,
   "metadata": {
    "collapsed": false
   },
   "outputs": [
    {
     "name": "stdout",
     "output_type": "stream",
     "text": [
      "[4, 7, 9, 0]\n",
      "[4, 7, 9, 0]\n"
     ]
    }
   ],
   "source": [
    "def vect_sum(v0,v1):\n",
    "    sum_vector = []\n",
    "    if len(v0) == len(v1):\n",
    "        for i in range(len(v0)):\n",
    "            sum_vector.append(v0[i] + v1[i])\n",
    "        return sum_vector\n",
    "    else:\n",
    "        return \"Invalid Entry\"\n",
    "    \n",
    "def vect_sum_2(v0,v1):\n",
    "    sum_vector = [a[0] + a[1] for a in list(zip(v0,v1))]\n",
    "    return sum_vector\n",
    "\n",
    "\n",
    "print(vect_sum([3,5,6,45],[1,2,3,-45]))\n",
    "print(vect_sum_2([3,5,6,45],[1,2,3,-45,27]))"
   ]
  },
  {
   "cell_type": "markdown",
   "metadata": {},
   "source": [
    "## Exercise 06.4\n",
    "A program that creates a dictionary of college names and their associated abbreviations"
   ]
  },
  {
   "cell_type": "code",
   "execution_count": 4,
   "metadata": {
    "collapsed": false
   },
   "outputs": [
    {
     "name": "stdout",
     "output_type": "stream",
     "text": [
      "{'Gonville and Caius': 'CAI', 'Clare': 'CL', 'Chruchill': 'CHU', 'Clare Hall': 'CLH', \"Christ's\": 'CHR'}\n",
      "\n",
      "\n",
      "['CAI', 'CHR', 'CHU', 'CL', 'CLH']\n"
     ]
    }
   ],
   "source": [
    "college_dict = {\"Christ's\":\"CHR\",\"Chruchill\":\"CHU\",\"Clare\":\"CL\",\"Clare Hall\":\"CLH\",\"Gonville and Caius\":\"CAI\"}\n",
    "\n",
    "print(college_dict)\n",
    "\n",
    "print(\"\\n\")\n",
    "\n",
    "abbr = []\n",
    "for i in college_dict:\n",
    "    abbr.append(college_dict[i])\n",
    "\n",
    "abbr.sort()\n",
    "print(abbr)"
   ]
  },
  {
   "cell_type": "code",
   "execution_count": null,
   "metadata": {
    "collapsed": true
   },
   "outputs": [],
   "source": []
  }
 ],
 "metadata": {
  "kernelspec": {
   "display_name": "Python 3",
   "language": "python",
   "name": "python3"
  },
  "language_info": {
   "codemirror_mode": {
    "name": "ipython",
    "version": 3
   },
   "file_extension": ".py",
   "mimetype": "text/x-python",
   "name": "python",
   "nbconvert_exporter": "python",
   "pygments_lexer": "ipython3",
   "version": "3.5.1"
  }
 },
 "nbformat": 4,
 "nbformat_minor": 1
}
