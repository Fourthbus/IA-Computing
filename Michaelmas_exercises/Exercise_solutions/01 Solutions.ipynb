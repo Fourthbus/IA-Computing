{
 "cells": [
  {
   "cell_type": "markdown",
   "metadata": {},
   "source": [
    "# Solutions for Exercise 01\n",
    "\n",
    "Following are the solutions to problems contained in notebook 01"
   ]
  },
  {
   "cell_type": "markdown",
   "metadata": {},
   "source": [
    "## Execise 01.1:\n",
    "A program to convert degrees Farenheight $(T_F)$ into degrees Celcius $(T_C)$ using the formula:\n",
    "$$T_C=5\\left( \\frac{T_F-32}{9}\\right) $$\n",
    "\n"
   ]
  },
  {
   "cell_type": "code",
   "execution_count": 7,
   "metadata": {
    "collapsed": false
   },
   "outputs": [
    {
     "name": "stdout",
     "output_type": "stream",
     "text": [
      "25.555555555555557\n"
     ]
    }
   ],
   "source": [
    "temp_far = 78 # Temp in °F\n",
    "\n",
    "temp_cel = 5 * (temp_far - 32) / 9 # Temp in °C\n",
    "\n",
    "print(temp_cel)"
   ]
  },
  {
   "cell_type": "markdown",
   "metadata": {},
   "source": [
    "## Exercise 01.2:\n",
    "A program that computes interest payable using:\n",
    "\n",
    "   A. Loan Principal (loan_principal)($P$)\n",
    "   \n",
    "   B. Bank rate (bank_rate)($R_B$)\n",
    "   \n",
    "   C. Rate over Bank Rate (rate_over)($R_A$)\n",
    "   \n",
    "   D. Time in days (time_days)($T$)\n",
    "   \n",
    "   E. Compounding frequency (comp_frequency)($n$)\n",
    "   \n",
    "   \n",
    "The formula for the interest payable (interest_payable) is $$ P\\left(1+\\frac{R_B+R_A}{n}\\right)^{\\Large{\\frac{nT}{365}}} $$"
   ]
  },
  {
   "cell_type": "code",
   "execution_count": 5,
   "metadata": {
    "collapsed": false
   },
   "outputs": [
    {
     "name": "stdout",
     "output_type": "stream",
     "text": [
      "Enter Loan Principal: 150000\n",
      "Enter time in days:28\n",
      "200.348084717436\n"
     ]
    }
   ],
   "source": [
    "loan_principal = float(input(\"Enter Loan Principal: \")) # user input variables\n",
    "time_days = float(input(\"Enter time in days:\"))\n",
    "\n",
    "bank_rate = 0.0025 # init other variables\n",
    "rate_over = 0.0149\n",
    "\n",
    "comp_frequency = 365 # interest is calculated every day. This val was unclear in problem layout\n",
    "\n",
    "interest_payable = loan_principal*(1 + (bank_rate + rate_over) / comp_frequency)\\\n",
    "                    **(comp_frequency * time_days / 365) - loan_principal # calc interest (2 lines)\n",
    "\n",
    "print(interest_payable) # print interest"
   ]
  },
  {
   "cell_type": "code",
   "execution_count": null,
   "metadata": {
    "collapsed": true
   },
   "outputs": [],
   "source": []
  }
 ],
 "metadata": {
  "kernelspec": {
   "display_name": "Python 3",
   "language": "python",
   "name": "python3"
  },
  "language_info": {
   "codemirror_mode": {
    "name": "ipython",
    "version": 3
   },
   "file_extension": ".py",
   "mimetype": "text/x-python",
   "name": "python",
   "nbconvert_exporter": "python",
   "pygments_lexer": "ipython3",
   "version": "3.5.1"
  }
 },
 "nbformat": 4,
 "nbformat_minor": 1
}
